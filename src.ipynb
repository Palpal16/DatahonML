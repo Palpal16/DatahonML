{
  "nbformat": 4,
  "nbformat_minor": 0,
  "metadata": {
    "colab": {
      "provenance": []
    },
    "kernelspec": {
      "name": "python3",
      "display_name": "Python 3"
    },
    "language_info": {
      "name": "python"
    }
  },
  "cells": [
    {
      "cell_type": "markdown",
      "source": [
        "# Import and Load\n"
      ],
      "metadata": {
        "id": "I8CApj_7cg93"
      }
    },
    {
      "cell_type": "code",
      "execution_count": 3,
      "metadata": {
        "id": "bXumadNFqjDU"
      },
      "outputs": [],
      "source": [
        "import pandas as pd\n",
        "import numpy as np\n",
        "import matplotlib.pyplot as plt\n",
        "import re\n",
        "import seaborn as sns\n",
        "from pandas.api.types import is_numeric_dtype\n",
        "\n",
        "from sklearn.ensemble import ExtraTreesRegressor\n",
        "from sklearn.model_selection import GridSearchCV\n",
        "import random\n",
        "from sklearn.ensemble import RandomForestRegressor\n",
        "from sklearn.metrics import mean_squared_error, mean_absolute_error, mean_absolute_percentage_error\n",
        "from sklearn.model_selection import train_test_split\n",
        "from sklearn.linear_model import LinearRegression"
      ]
    },
    {
      "cell_type": "code",
      "source": [
        "from google.colab import drive\n",
        "drive.mount('/content/drive/')"
      ],
      "metadata": {
        "colab": {
          "base_uri": "https://localhost:8080/"
        },
        "id": "72CFJ-n0qpZ8",
        "outputId": "051a4f08-3a3e-4ac9-87ed-326f9fb09da2"
      },
      "execution_count": 4,
      "outputs": [
        {
          "output_type": "stream",
          "name": "stdout",
          "text": [
            "Mounted at /content/drive/\n"
          ]
        }
      ]
    },
    {
      "cell_type": "code",
      "source": [
        "import warnings\n",
        "warnings.filterwarnings('ignore')"
      ],
      "metadata": {
        "id": "bSHWPH0Mqrug"
      },
      "execution_count": 5,
      "outputs": []
    },
    {
      "cell_type": "code",
      "source": [
        "housing = pd.read_csv(\"/content/drive/MyDrive/Datathon/train.csv\")\n",
        "Test = pd.read_csv(\"/content/drive/MyDrive/Datathon/test.csv\")\n",
        "housing.head()"
      ],
      "metadata": {
        "colab": {
          "base_uri": "https://localhost:8080/",
          "height": 331
        },
        "id": "6MI1_5dmqvJB",
        "outputId": "d7da35aa-9851-457a-881a-765bbf408fb0"
      },
      "execution_count": 6,
      "outputs": [
        {
          "output_type": "execute_result",
          "data": {
            "text/plain": [
              "                Characteristics.LotFeatures  \\\n",
              "0                                       NaN   \n",
              "1                                       NaN   \n",
              "2                                       NaN   \n",
              "3                                       NaN   \n",
              "4  ['horses allowed', 'paddock', 'pond(s)']   \n",
              "\n",
              "   Characteristics.LotSizeSquareFeet  ImageData.c1c6.summary.bathroom  \\\n",
              "0                             3200.0                              NaN   \n",
              "1                                NaN                              NaN   \n",
              "2                            18750.0                              NaN   \n",
              "3                                NaN                              NaN   \n",
              "4                                NaN                              NaN   \n",
              "\n",
              "   ImageData.c1c6.summary.exterior  ImageData.c1c6.summary.interior  \\\n",
              "0                              NaN                              NaN   \n",
              "1                              3.8                              3.7   \n",
              "2                              NaN                              NaN   \n",
              "3                              NaN                              NaN   \n",
              "4                              3.6                              NaN   \n",
              "\n",
              "   ImageData.c1c6.summary.kitchen  ImageData.c1c6.summary.property  \\\n",
              "0                             NaN                              NaN   \n",
              "1                             3.8                              3.8   \n",
              "2                             NaN                              NaN   \n",
              "3                             NaN                              NaN   \n",
              "4                             NaN                              3.6   \n",
              "\n",
              "                     ImageData.features_reso.results  \\\n",
              "0  ['Cooling.CeilingFans', 'Flooring.Carpet', 'Fl...   \n",
              "1  ['Appliances.GasRange', 'Appliances.Range', 'A...   \n",
              "2  ['Flooring.Carpet', 'ParkingFeatures.Garage', ...   \n",
              "3  ['CommunityFeatures.Lake', 'WaterfrontFeatures...   \n",
              "4  ['Appliances.Refrigerator', 'Appliances.Microw...   \n",
              "\n",
              "   ImageData.q1q6.summary.bathroom  ImageData.q1q6.summary.exterior  ...  \\\n",
              "0                              NaN                              NaN  ...   \n",
              "1                              NaN                              4.2  ...   \n",
              "2                              NaN                              NaN  ...   \n",
              "3                              NaN                              NaN  ...   \n",
              "4                              NaN                              4.2  ...   \n",
              "\n",
              "   Structure.FireplacesTotal  Structure.GarageSpaces  Structure.Heating  \\\n",
              "0                        NaN                     NaN                NaN   \n",
              "1                        NaN                     NaN    ['natural gas']   \n",
              "2                        NaN                     NaN                NaN   \n",
              "3                        NaN                     NaN                NaN   \n",
              "4                        NaN                     NaN          ['other']   \n",
              "\n",
              "  Structure.LivingArea Structure.NewConstructionYN  \\\n",
              "0                  NaN                       False   \n",
              "1               3175.0                       False   \n",
              "2                  NaN                       False   \n",
              "3                  NaN                       False   \n",
              "4                  0.0                       False   \n",
              "\n",
              "      Structure.ParkingFeatures Structure.Rooms.RoomsTotal  \\\n",
              "0                           NaN                        NaN   \n",
              "1                 ['off alley']                        6.0   \n",
              "2                           NaN                        NaN   \n",
              "3                           NaN                        NaN   \n",
              "4  ['unassigned', 'off street']                        4.0   \n",
              "\n",
              "  Structure.YearBuilt  Tax.Zoning UnitTypes.UnitTypeType  \n",
              "0                 0.0       commr                    NaN  \n",
              "1                 NaN         NaN                    NaN  \n",
              "2              1926.0       commr                    NaN  \n",
              "3                 NaN       agric                    NaN  \n",
              "4              2006.0         NaN                    NaN  \n",
              "\n",
              "[5 rows x 55 columns]"
            ],
            "text/html": [
              "\n",
              "  <div id=\"df-17e70380-a1bf-4bb4-a6a4-eba521095e92\" class=\"colab-df-container\">\n",
              "    <div>\n",
              "<style scoped>\n",
              "    .dataframe tbody tr th:only-of-type {\n",
              "        vertical-align: middle;\n",
              "    }\n",
              "\n",
              "    .dataframe tbody tr th {\n",
              "        vertical-align: top;\n",
              "    }\n",
              "\n",
              "    .dataframe thead th {\n",
              "        text-align: right;\n",
              "    }\n",
              "</style>\n",
              "<table border=\"1\" class=\"dataframe\">\n",
              "  <thead>\n",
              "    <tr style=\"text-align: right;\">\n",
              "      <th></th>\n",
              "      <th>Characteristics.LotFeatures</th>\n",
              "      <th>Characteristics.LotSizeSquareFeet</th>\n",
              "      <th>ImageData.c1c6.summary.bathroom</th>\n",
              "      <th>ImageData.c1c6.summary.exterior</th>\n",
              "      <th>ImageData.c1c6.summary.interior</th>\n",
              "      <th>ImageData.c1c6.summary.kitchen</th>\n",
              "      <th>ImageData.c1c6.summary.property</th>\n",
              "      <th>ImageData.features_reso.results</th>\n",
              "      <th>ImageData.q1q6.summary.bathroom</th>\n",
              "      <th>ImageData.q1q6.summary.exterior</th>\n",
              "      <th>...</th>\n",
              "      <th>Structure.FireplacesTotal</th>\n",
              "      <th>Structure.GarageSpaces</th>\n",
              "      <th>Structure.Heating</th>\n",
              "      <th>Structure.LivingArea</th>\n",
              "      <th>Structure.NewConstructionYN</th>\n",
              "      <th>Structure.ParkingFeatures</th>\n",
              "      <th>Structure.Rooms.RoomsTotal</th>\n",
              "      <th>Structure.YearBuilt</th>\n",
              "      <th>Tax.Zoning</th>\n",
              "      <th>UnitTypes.UnitTypeType</th>\n",
              "    </tr>\n",
              "  </thead>\n",
              "  <tbody>\n",
              "    <tr>\n",
              "      <th>0</th>\n",
              "      <td>NaN</td>\n",
              "      <td>3200.0</td>\n",
              "      <td>NaN</td>\n",
              "      <td>NaN</td>\n",
              "      <td>NaN</td>\n",
              "      <td>NaN</td>\n",
              "      <td>NaN</td>\n",
              "      <td>['Cooling.CeilingFans', 'Flooring.Carpet', 'Fl...</td>\n",
              "      <td>NaN</td>\n",
              "      <td>NaN</td>\n",
              "      <td>...</td>\n",
              "      <td>NaN</td>\n",
              "      <td>NaN</td>\n",
              "      <td>NaN</td>\n",
              "      <td>NaN</td>\n",
              "      <td>False</td>\n",
              "      <td>NaN</td>\n",
              "      <td>NaN</td>\n",
              "      <td>0.0</td>\n",
              "      <td>commr</td>\n",
              "      <td>NaN</td>\n",
              "    </tr>\n",
              "    <tr>\n",
              "      <th>1</th>\n",
              "      <td>NaN</td>\n",
              "      <td>NaN</td>\n",
              "      <td>NaN</td>\n",
              "      <td>3.8</td>\n",
              "      <td>3.7</td>\n",
              "      <td>3.8</td>\n",
              "      <td>3.8</td>\n",
              "      <td>['Appliances.GasRange', 'Appliances.Range', 'A...</td>\n",
              "      <td>NaN</td>\n",
              "      <td>4.2</td>\n",
              "      <td>...</td>\n",
              "      <td>NaN</td>\n",
              "      <td>NaN</td>\n",
              "      <td>['natural gas']</td>\n",
              "      <td>3175.0</td>\n",
              "      <td>False</td>\n",
              "      <td>['off alley']</td>\n",
              "      <td>6.0</td>\n",
              "      <td>NaN</td>\n",
              "      <td>NaN</td>\n",
              "      <td>NaN</td>\n",
              "    </tr>\n",
              "    <tr>\n",
              "      <th>2</th>\n",
              "      <td>NaN</td>\n",
              "      <td>18750.0</td>\n",
              "      <td>NaN</td>\n",
              "      <td>NaN</td>\n",
              "      <td>NaN</td>\n",
              "      <td>NaN</td>\n",
              "      <td>NaN</td>\n",
              "      <td>['Flooring.Carpet', 'ParkingFeatures.Garage', ...</td>\n",
              "      <td>NaN</td>\n",
              "      <td>NaN</td>\n",
              "      <td>...</td>\n",
              "      <td>NaN</td>\n",
              "      <td>NaN</td>\n",
              "      <td>NaN</td>\n",
              "      <td>NaN</td>\n",
              "      <td>False</td>\n",
              "      <td>NaN</td>\n",
              "      <td>NaN</td>\n",
              "      <td>1926.0</td>\n",
              "      <td>commr</td>\n",
              "      <td>NaN</td>\n",
              "    </tr>\n",
              "    <tr>\n",
              "      <th>3</th>\n",
              "      <td>NaN</td>\n",
              "      <td>NaN</td>\n",
              "      <td>NaN</td>\n",
              "      <td>NaN</td>\n",
              "      <td>NaN</td>\n",
              "      <td>NaN</td>\n",
              "      <td>NaN</td>\n",
              "      <td>['CommunityFeatures.Lake', 'WaterfrontFeatures...</td>\n",
              "      <td>NaN</td>\n",
              "      <td>NaN</td>\n",
              "      <td>...</td>\n",
              "      <td>NaN</td>\n",
              "      <td>NaN</td>\n",
              "      <td>NaN</td>\n",
              "      <td>NaN</td>\n",
              "      <td>False</td>\n",
              "      <td>NaN</td>\n",
              "      <td>NaN</td>\n",
              "      <td>NaN</td>\n",
              "      <td>agric</td>\n",
              "      <td>NaN</td>\n",
              "    </tr>\n",
              "    <tr>\n",
              "      <th>4</th>\n",
              "      <td>['horses allowed', 'paddock', 'pond(s)']</td>\n",
              "      <td>NaN</td>\n",
              "      <td>NaN</td>\n",
              "      <td>3.6</td>\n",
              "      <td>NaN</td>\n",
              "      <td>NaN</td>\n",
              "      <td>3.6</td>\n",
              "      <td>['Appliances.Refrigerator', 'Appliances.Microw...</td>\n",
              "      <td>NaN</td>\n",
              "      <td>4.2</td>\n",
              "      <td>...</td>\n",
              "      <td>NaN</td>\n",
              "      <td>NaN</td>\n",
              "      <td>['other']</td>\n",
              "      <td>0.0</td>\n",
              "      <td>False</td>\n",
              "      <td>['unassigned', 'off street']</td>\n",
              "      <td>4.0</td>\n",
              "      <td>2006.0</td>\n",
              "      <td>NaN</td>\n",
              "      <td>NaN</td>\n",
              "    </tr>\n",
              "  </tbody>\n",
              "</table>\n",
              "<p>5 rows × 55 columns</p>\n",
              "</div>\n",
              "    <div class=\"colab-df-buttons\">\n",
              "\n",
              "  <div class=\"colab-df-container\">\n",
              "    <button class=\"colab-df-convert\" onclick=\"convertToInteractive('df-17e70380-a1bf-4bb4-a6a4-eba521095e92')\"\n",
              "            title=\"Convert this dataframe to an interactive table.\"\n",
              "            style=\"display:none;\">\n",
              "\n",
              "  <svg xmlns=\"http://www.w3.org/2000/svg\" height=\"24px\" viewBox=\"0 -960 960 960\">\n",
              "    <path d=\"M120-120v-720h720v720H120Zm60-500h600v-160H180v160Zm220 220h160v-160H400v160Zm0 220h160v-160H400v160ZM180-400h160v-160H180v160Zm440 0h160v-160H620v160ZM180-180h160v-160H180v160Zm440 0h160v-160H620v160Z\"/>\n",
              "  </svg>\n",
              "    </button>\n",
              "\n",
              "  <style>\n",
              "    .colab-df-container {\n",
              "      display:flex;\n",
              "      gap: 12px;\n",
              "    }\n",
              "\n",
              "    .colab-df-convert {\n",
              "      background-color: #E8F0FE;\n",
              "      border: none;\n",
              "      border-radius: 50%;\n",
              "      cursor: pointer;\n",
              "      display: none;\n",
              "      fill: #1967D2;\n",
              "      height: 32px;\n",
              "      padding: 0 0 0 0;\n",
              "      width: 32px;\n",
              "    }\n",
              "\n",
              "    .colab-df-convert:hover {\n",
              "      background-color: #E2EBFA;\n",
              "      box-shadow: 0px 1px 2px rgba(60, 64, 67, 0.3), 0px 1px 3px 1px rgba(60, 64, 67, 0.15);\n",
              "      fill: #174EA6;\n",
              "    }\n",
              "\n",
              "    .colab-df-buttons div {\n",
              "      margin-bottom: 4px;\n",
              "    }\n",
              "\n",
              "    [theme=dark] .colab-df-convert {\n",
              "      background-color: #3B4455;\n",
              "      fill: #D2E3FC;\n",
              "    }\n",
              "\n",
              "    [theme=dark] .colab-df-convert:hover {\n",
              "      background-color: #434B5C;\n",
              "      box-shadow: 0px 1px 3px 1px rgba(0, 0, 0, 0.15);\n",
              "      filter: drop-shadow(0px 1px 2px rgba(0, 0, 0, 0.3));\n",
              "      fill: #FFFFFF;\n",
              "    }\n",
              "  </style>\n",
              "\n",
              "    <script>\n",
              "      const buttonEl =\n",
              "        document.querySelector('#df-17e70380-a1bf-4bb4-a6a4-eba521095e92 button.colab-df-convert');\n",
              "      buttonEl.style.display =\n",
              "        google.colab.kernel.accessAllowed ? 'block' : 'none';\n",
              "\n",
              "      async function convertToInteractive(key) {\n",
              "        const element = document.querySelector('#df-17e70380-a1bf-4bb4-a6a4-eba521095e92');\n",
              "        const dataTable =\n",
              "          await google.colab.kernel.invokeFunction('convertToInteractive',\n",
              "                                                    [key], {});\n",
              "        if (!dataTable) return;\n",
              "\n",
              "        const docLinkHtml = 'Like what you see? Visit the ' +\n",
              "          '<a target=\"_blank\" href=https://colab.research.google.com/notebooks/data_table.ipynb>data table notebook</a>'\n",
              "          + ' to learn more about interactive tables.';\n",
              "        element.innerHTML = '';\n",
              "        dataTable['output_type'] = 'display_data';\n",
              "        await google.colab.output.renderOutput(dataTable, element);\n",
              "        const docLink = document.createElement('div');\n",
              "        docLink.innerHTML = docLinkHtml;\n",
              "        element.appendChild(docLink);\n",
              "      }\n",
              "    </script>\n",
              "  </div>\n",
              "\n",
              "\n",
              "<div id=\"df-64391300-726a-4b38-9995-5fa2493412e3\">\n",
              "  <button class=\"colab-df-quickchart\" onclick=\"quickchart('df-64391300-726a-4b38-9995-5fa2493412e3')\"\n",
              "            title=\"Suggest charts\"\n",
              "            style=\"display:none;\">\n",
              "\n",
              "<svg xmlns=\"http://www.w3.org/2000/svg\" height=\"24px\"viewBox=\"0 0 24 24\"\n",
              "     width=\"24px\">\n",
              "    <g>\n",
              "        <path d=\"M19 3H5c-1.1 0-2 .9-2 2v14c0 1.1.9 2 2 2h14c1.1 0 2-.9 2-2V5c0-1.1-.9-2-2-2zM9 17H7v-7h2v7zm4 0h-2V7h2v10zm4 0h-2v-4h2v4z\"/>\n",
              "    </g>\n",
              "</svg>\n",
              "  </button>\n",
              "\n",
              "<style>\n",
              "  .colab-df-quickchart {\n",
              "      --bg-color: #E8F0FE;\n",
              "      --fill-color: #1967D2;\n",
              "      --hover-bg-color: #E2EBFA;\n",
              "      --hover-fill-color: #174EA6;\n",
              "      --disabled-fill-color: #AAA;\n",
              "      --disabled-bg-color: #DDD;\n",
              "  }\n",
              "\n",
              "  [theme=dark] .colab-df-quickchart {\n",
              "      --bg-color: #3B4455;\n",
              "      --fill-color: #D2E3FC;\n",
              "      --hover-bg-color: #434B5C;\n",
              "      --hover-fill-color: #FFFFFF;\n",
              "      --disabled-bg-color: #3B4455;\n",
              "      --disabled-fill-color: #666;\n",
              "  }\n",
              "\n",
              "  .colab-df-quickchart {\n",
              "    background-color: var(--bg-color);\n",
              "    border: none;\n",
              "    border-radius: 50%;\n",
              "    cursor: pointer;\n",
              "    display: none;\n",
              "    fill: var(--fill-color);\n",
              "    height: 32px;\n",
              "    padding: 0;\n",
              "    width: 32px;\n",
              "  }\n",
              "\n",
              "  .colab-df-quickchart:hover {\n",
              "    background-color: var(--hover-bg-color);\n",
              "    box-shadow: 0 1px 2px rgba(60, 64, 67, 0.3), 0 1px 3px 1px rgba(60, 64, 67, 0.15);\n",
              "    fill: var(--button-hover-fill-color);\n",
              "  }\n",
              "\n",
              "  .colab-df-quickchart-complete:disabled,\n",
              "  .colab-df-quickchart-complete:disabled:hover {\n",
              "    background-color: var(--disabled-bg-color);\n",
              "    fill: var(--disabled-fill-color);\n",
              "    box-shadow: none;\n",
              "  }\n",
              "\n",
              "  .colab-df-spinner {\n",
              "    border: 2px solid var(--fill-color);\n",
              "    border-color: transparent;\n",
              "    border-bottom-color: var(--fill-color);\n",
              "    animation:\n",
              "      spin 1s steps(1) infinite;\n",
              "  }\n",
              "\n",
              "  @keyframes spin {\n",
              "    0% {\n",
              "      border-color: transparent;\n",
              "      border-bottom-color: var(--fill-color);\n",
              "      border-left-color: var(--fill-color);\n",
              "    }\n",
              "    20% {\n",
              "      border-color: transparent;\n",
              "      border-left-color: var(--fill-color);\n",
              "      border-top-color: var(--fill-color);\n",
              "    }\n",
              "    30% {\n",
              "      border-color: transparent;\n",
              "      border-left-color: var(--fill-color);\n",
              "      border-top-color: var(--fill-color);\n",
              "      border-right-color: var(--fill-color);\n",
              "    }\n",
              "    40% {\n",
              "      border-color: transparent;\n",
              "      border-right-color: var(--fill-color);\n",
              "      border-top-color: var(--fill-color);\n",
              "    }\n",
              "    60% {\n",
              "      border-color: transparent;\n",
              "      border-right-color: var(--fill-color);\n",
              "    }\n",
              "    80% {\n",
              "      border-color: transparent;\n",
              "      border-right-color: var(--fill-color);\n",
              "      border-bottom-color: var(--fill-color);\n",
              "    }\n",
              "    90% {\n",
              "      border-color: transparent;\n",
              "      border-bottom-color: var(--fill-color);\n",
              "    }\n",
              "  }\n",
              "</style>\n",
              "\n",
              "  <script>\n",
              "    async function quickchart(key) {\n",
              "      const quickchartButtonEl =\n",
              "        document.querySelector('#' + key + ' button');\n",
              "      quickchartButtonEl.disabled = true;  // To prevent multiple clicks.\n",
              "      quickchartButtonEl.classList.add('colab-df-spinner');\n",
              "      try {\n",
              "        const charts = await google.colab.kernel.invokeFunction(\n",
              "            'suggestCharts', [key], {});\n",
              "      } catch (error) {\n",
              "        console.error('Error during call to suggestCharts:', error);\n",
              "      }\n",
              "      quickchartButtonEl.classList.remove('colab-df-spinner');\n",
              "      quickchartButtonEl.classList.add('colab-df-quickchart-complete');\n",
              "    }\n",
              "    (() => {\n",
              "      let quickchartButtonEl =\n",
              "        document.querySelector('#df-64391300-726a-4b38-9995-5fa2493412e3 button');\n",
              "      quickchartButtonEl.style.display =\n",
              "        google.colab.kernel.accessAllowed ? 'block' : 'none';\n",
              "    })();\n",
              "  </script>\n",
              "</div>\n",
              "\n",
              "    </div>\n",
              "  </div>\n"
            ],
            "application/vnd.google.colaboratory.intrinsic+json": {
              "type": "dataframe",
              "variable_name": "housing"
            }
          },
          "metadata": {},
          "execution_count": 6
        }
      ]
    },
    {
      "cell_type": "markdown",
      "source": [
        "# Remove too many NaN and expand strings"
      ],
      "metadata": {
        "id": "7_HxF-3qcnc_"
      }
    },
    {
      "cell_type": "code",
      "source": [
        "perce_miss = housing.isna().sum()/len(housing)\n",
        "perce_miss"
      ],
      "metadata": {
        "colab": {
          "base_uri": "https://localhost:8080/",
          "height": 1000
        },
        "id": "EXKA8_4kqwZB",
        "outputId": "09199794-49fe-4344-fa9a-826a3fe5c3c1"
      },
      "execution_count": 7,
      "outputs": [
        {
          "output_type": "execute_result",
          "data": {
            "text/plain": [
              "Characteristics.LotFeatures               0.608887\n",
              "Characteristics.LotSizeSquareFeet         0.984270\n",
              "ImageData.c1c6.summary.bathroom           0.155375\n",
              "ImageData.c1c6.summary.exterior           0.182879\n",
              "ImageData.c1c6.summary.interior           0.128820\n",
              "ImageData.c1c6.summary.kitchen            0.140706\n",
              "ImageData.c1c6.summary.property           0.040787\n",
              "ImageData.features_reso.results           0.024731\n",
              "ImageData.q1q6.summary.bathroom           0.155710\n",
              "ImageData.q1q6.summary.exterior           0.231503\n",
              "ImageData.q1q6.summary.interior           0.128894\n",
              "ImageData.q1q6.summary.kitchen            0.140966\n",
              "ImageData.q1q6.summary.property           0.052487\n",
              "ImageData.room_type_reso.results          0.005240\n",
              "ImageData.style.exterior.summary.label    0.222121\n",
              "ImageData.style.stories.summary.label     0.224187\n",
              "Listing.Dates.CloseDate                   0.000000\n",
              "Listing.ListingId                         0.000000\n",
              "Listing.Price.ClosePrice                  0.000000\n",
              "Location.Address.CensusBlock              0.065127\n",
              "Location.Address.CensusTract              0.065127\n",
              "Location.Address.City                     0.000000\n",
              "Location.Address.CountyOrParish           0.005706\n",
              "Location.Address.PostalCode               0.000000\n",
              "Location.Address.PostalCodePlus4          0.969554\n",
              "Location.Address.StateOrProvince          0.000000\n",
              "Location.Address.StreetDirectionPrefix    0.546767\n",
              "Location.Address.StreetDirectionSuffix    0.994034\n",
              "Location.Address.StreetName               0.000037\n",
              "Location.Address.StreetNumber             0.000233\n",
              "Location.Address.StreetSuffix             0.012687\n",
              "Location.Address.UnitNumber               0.771559\n",
              "Location.Address.UnparsedAddress          0.000000\n",
              "Location.Area.SubdivisionName             0.659884\n",
              "Location.GIS.Latitude                     0.065127\n",
              "Location.GIS.Longitude                    0.065127\n",
              "Location.School.HighSchoolDistrict        0.020310\n",
              "Property.PropertyType                     0.000000\n",
              "Structure.Basement                        0.042900\n",
              "Structure.BathroomsFull                   0.068636\n",
              "Structure.BathroomsHalf                   0.068766\n",
              "Structure.BedroomsTotal                   0.022460\n",
              "Structure.BelowGradeFinishedArea          0.867504\n",
              "Structure.BelowGradeUnfinishedArea        0.891341\n",
              "Structure.Cooling                         0.055381\n",
              "Structure.FireplacesTotal                 0.523293\n",
              "Structure.GarageSpaces                    0.175135\n",
              "Structure.Heating                         0.022804\n",
              "Structure.LivingArea                      0.073792\n",
              "Structure.NewConstructionYN               0.010173\n",
              "Structure.ParkingFeatures                 0.873814\n",
              "Structure.Rooms.RoomsTotal                0.022115\n",
              "Structure.YearBuilt                       0.048224\n",
              "Tax.Zoning                                0.930210\n",
              "UnitTypes.UnitTypeType                    0.953684\n",
              "dtype: float64"
            ],
            "text/html": [
              "<div>\n",
              "<style scoped>\n",
              "    .dataframe tbody tr th:only-of-type {\n",
              "        vertical-align: middle;\n",
              "    }\n",
              "\n",
              "    .dataframe tbody tr th {\n",
              "        vertical-align: top;\n",
              "    }\n",
              "\n",
              "    .dataframe thead th {\n",
              "        text-align: right;\n",
              "    }\n",
              "</style>\n",
              "<table border=\"1\" class=\"dataframe\">\n",
              "  <thead>\n",
              "    <tr style=\"text-align: right;\">\n",
              "      <th></th>\n",
              "      <th>0</th>\n",
              "    </tr>\n",
              "  </thead>\n",
              "  <tbody>\n",
              "    <tr>\n",
              "      <th>Characteristics.LotFeatures</th>\n",
              "      <td>0.608887</td>\n",
              "    </tr>\n",
              "    <tr>\n",
              "      <th>Characteristics.LotSizeSquareFeet</th>\n",
              "      <td>0.984270</td>\n",
              "    </tr>\n",
              "    <tr>\n",
              "      <th>ImageData.c1c6.summary.bathroom</th>\n",
              "      <td>0.155375</td>\n",
              "    </tr>\n",
              "    <tr>\n",
              "      <th>ImageData.c1c6.summary.exterior</th>\n",
              "      <td>0.182879</td>\n",
              "    </tr>\n",
              "    <tr>\n",
              "      <th>ImageData.c1c6.summary.interior</th>\n",
              "      <td>0.128820</td>\n",
              "    </tr>\n",
              "    <tr>\n",
              "      <th>ImageData.c1c6.summary.kitchen</th>\n",
              "      <td>0.140706</td>\n",
              "    </tr>\n",
              "    <tr>\n",
              "      <th>ImageData.c1c6.summary.property</th>\n",
              "      <td>0.040787</td>\n",
              "    </tr>\n",
              "    <tr>\n",
              "      <th>ImageData.features_reso.results</th>\n",
              "      <td>0.024731</td>\n",
              "    </tr>\n",
              "    <tr>\n",
              "      <th>ImageData.q1q6.summary.bathroom</th>\n",
              "      <td>0.155710</td>\n",
              "    </tr>\n",
              "    <tr>\n",
              "      <th>ImageData.q1q6.summary.exterior</th>\n",
              "      <td>0.231503</td>\n",
              "    </tr>\n",
              "    <tr>\n",
              "      <th>ImageData.q1q6.summary.interior</th>\n",
              "      <td>0.128894</td>\n",
              "    </tr>\n",
              "    <tr>\n",
              "      <th>ImageData.q1q6.summary.kitchen</th>\n",
              "      <td>0.140966</td>\n",
              "    </tr>\n",
              "    <tr>\n",
              "      <th>ImageData.q1q6.summary.property</th>\n",
              "      <td>0.052487</td>\n",
              "    </tr>\n",
              "    <tr>\n",
              "      <th>ImageData.room_type_reso.results</th>\n",
              "      <td>0.005240</td>\n",
              "    </tr>\n",
              "    <tr>\n",
              "      <th>ImageData.style.exterior.summary.label</th>\n",
              "      <td>0.222121</td>\n",
              "    </tr>\n",
              "    <tr>\n",
              "      <th>ImageData.style.stories.summary.label</th>\n",
              "      <td>0.224187</td>\n",
              "    </tr>\n",
              "    <tr>\n",
              "      <th>Listing.Dates.CloseDate</th>\n",
              "      <td>0.000000</td>\n",
              "    </tr>\n",
              "    <tr>\n",
              "      <th>Listing.ListingId</th>\n",
              "      <td>0.000000</td>\n",
              "    </tr>\n",
              "    <tr>\n",
              "      <th>Listing.Price.ClosePrice</th>\n",
              "      <td>0.000000</td>\n",
              "    </tr>\n",
              "    <tr>\n",
              "      <th>Location.Address.CensusBlock</th>\n",
              "      <td>0.065127</td>\n",
              "    </tr>\n",
              "    <tr>\n",
              "      <th>Location.Address.CensusTract</th>\n",
              "      <td>0.065127</td>\n",
              "    </tr>\n",
              "    <tr>\n",
              "      <th>Location.Address.City</th>\n",
              "      <td>0.000000</td>\n",
              "    </tr>\n",
              "    <tr>\n",
              "      <th>Location.Address.CountyOrParish</th>\n",
              "      <td>0.005706</td>\n",
              "    </tr>\n",
              "    <tr>\n",
              "      <th>Location.Address.PostalCode</th>\n",
              "      <td>0.000000</td>\n",
              "    </tr>\n",
              "    <tr>\n",
              "      <th>Location.Address.PostalCodePlus4</th>\n",
              "      <td>0.969554</td>\n",
              "    </tr>\n",
              "    <tr>\n",
              "      <th>Location.Address.StateOrProvince</th>\n",
              "      <td>0.000000</td>\n",
              "    </tr>\n",
              "    <tr>\n",
              "      <th>Location.Address.StreetDirectionPrefix</th>\n",
              "      <td>0.546767</td>\n",
              "    </tr>\n",
              "    <tr>\n",
              "      <th>Location.Address.StreetDirectionSuffix</th>\n",
              "      <td>0.994034</td>\n",
              "    </tr>\n",
              "    <tr>\n",
              "      <th>Location.Address.StreetName</th>\n",
              "      <td>0.000037</td>\n",
              "    </tr>\n",
              "    <tr>\n",
              "      <th>Location.Address.StreetNumber</th>\n",
              "      <td>0.000233</td>\n",
              "    </tr>\n",
              "    <tr>\n",
              "      <th>Location.Address.StreetSuffix</th>\n",
              "      <td>0.012687</td>\n",
              "    </tr>\n",
              "    <tr>\n",
              "      <th>Location.Address.UnitNumber</th>\n",
              "      <td>0.771559</td>\n",
              "    </tr>\n",
              "    <tr>\n",
              "      <th>Location.Address.UnparsedAddress</th>\n",
              "      <td>0.000000</td>\n",
              "    </tr>\n",
              "    <tr>\n",
              "      <th>Location.Area.SubdivisionName</th>\n",
              "      <td>0.659884</td>\n",
              "    </tr>\n",
              "    <tr>\n",
              "      <th>Location.GIS.Latitude</th>\n",
              "      <td>0.065127</td>\n",
              "    </tr>\n",
              "    <tr>\n",
              "      <th>Location.GIS.Longitude</th>\n",
              "      <td>0.065127</td>\n",
              "    </tr>\n",
              "    <tr>\n",
              "      <th>Location.School.HighSchoolDistrict</th>\n",
              "      <td>0.020310</td>\n",
              "    </tr>\n",
              "    <tr>\n",
              "      <th>Property.PropertyType</th>\n",
              "      <td>0.000000</td>\n",
              "    </tr>\n",
              "    <tr>\n",
              "      <th>Structure.Basement</th>\n",
              "      <td>0.042900</td>\n",
              "    </tr>\n",
              "    <tr>\n",
              "      <th>Structure.BathroomsFull</th>\n",
              "      <td>0.068636</td>\n",
              "    </tr>\n",
              "    <tr>\n",
              "      <th>Structure.BathroomsHalf</th>\n",
              "      <td>0.068766</td>\n",
              "    </tr>\n",
              "    <tr>\n",
              "      <th>Structure.BedroomsTotal</th>\n",
              "      <td>0.022460</td>\n",
              "    </tr>\n",
              "    <tr>\n",
              "      <th>Structure.BelowGradeFinishedArea</th>\n",
              "      <td>0.867504</td>\n",
              "    </tr>\n",
              "    <tr>\n",
              "      <th>Structure.BelowGradeUnfinishedArea</th>\n",
              "      <td>0.891341</td>\n",
              "    </tr>\n",
              "    <tr>\n",
              "      <th>Structure.Cooling</th>\n",
              "      <td>0.055381</td>\n",
              "    </tr>\n",
              "    <tr>\n",
              "      <th>Structure.FireplacesTotal</th>\n",
              "      <td>0.523293</td>\n",
              "    </tr>\n",
              "    <tr>\n",
              "      <th>Structure.GarageSpaces</th>\n",
              "      <td>0.175135</td>\n",
              "    </tr>\n",
              "    <tr>\n",
              "      <th>Structure.Heating</th>\n",
              "      <td>0.022804</td>\n",
              "    </tr>\n",
              "    <tr>\n",
              "      <th>Structure.LivingArea</th>\n",
              "      <td>0.073792</td>\n",
              "    </tr>\n",
              "    <tr>\n",
              "      <th>Structure.NewConstructionYN</th>\n",
              "      <td>0.010173</td>\n",
              "    </tr>\n",
              "    <tr>\n",
              "      <th>Structure.ParkingFeatures</th>\n",
              "      <td>0.873814</td>\n",
              "    </tr>\n",
              "    <tr>\n",
              "      <th>Structure.Rooms.RoomsTotal</th>\n",
              "      <td>0.022115</td>\n",
              "    </tr>\n",
              "    <tr>\n",
              "      <th>Structure.YearBuilt</th>\n",
              "      <td>0.048224</td>\n",
              "    </tr>\n",
              "    <tr>\n",
              "      <th>Tax.Zoning</th>\n",
              "      <td>0.930210</td>\n",
              "    </tr>\n",
              "    <tr>\n",
              "      <th>UnitTypes.UnitTypeType</th>\n",
              "      <td>0.953684</td>\n",
              "    </tr>\n",
              "  </tbody>\n",
              "</table>\n",
              "</div><br><label><b>dtype:</b> float64</label>"
            ]
          },
          "metadata": {},
          "execution_count": 7
        }
      ]
    },
    {
      "cell_type": "code",
      "source": [
        "to_remove = []\n",
        "for i in perce_miss:\n",
        "      if i >0.85:\n",
        "        print(perce_miss[perce_miss == i].index[0], i )\n",
        "        to_remove.append(perce_miss[perce_miss == i].index[0])"
      ],
      "metadata": {
        "colab": {
          "base_uri": "https://localhost:8080/"
        },
        "id": "zXRljPvvqy3e",
        "outputId": "22353601-6339-4147-d963-2b045480dc20"
      },
      "execution_count": 8,
      "outputs": [
        {
          "output_type": "stream",
          "name": "stdout",
          "text": [
            "Characteristics.LotSizeSquareFeet 0.9842698511685918\n",
            "Location.Address.PostalCodePlus4 0.9695542503979077\n",
            "Location.Address.StreetDirectionSuffix 0.9940337127805132\n",
            "Structure.BelowGradeFinishedArea 0.8675037463816003\n",
            "Structure.BelowGradeUnfinishedArea 0.8913409719184266\n",
            "Structure.ParkingFeatures 0.8738144214749108\n",
            "Tax.Zoning 0.9302102627586399\n",
            "UnitTypes.UnitTypeType 0.9536844848608952\n"
          ]
        }
      ]
    },
    {
      "cell_type": "code",
      "source": [
        "housing = housing.drop(columns=to_remove)\n",
        "Test = Test.drop(columns=to_remove)"
      ],
      "metadata": {
        "id": "pRd49r11q6th"
      },
      "execution_count": 9,
      "outputs": []
    },
    {
      "cell_type": "code",
      "source": [
        "print(Test.shape)"
      ],
      "metadata": {
        "colab": {
          "base_uri": "https://localhost:8080/"
        },
        "id": "KqJ-880Mb0qi",
        "outputId": "1d190c48-9ea9-493d-92ef-00679e3148f2"
      },
      "execution_count": 10,
      "outputs": [
        {
          "output_type": "stream",
          "name": "stdout",
          "text": [
            "(22039, 46)\n"
          ]
        }
      ]
    },
    {
      "cell_type": "code",
      "source": [
        "threshold = 0.2*housing.shape[1]\n",
        "print(housing.shape)\n",
        "housing = housing[housing.isnull().sum(axis=1) <= threshold]\n",
        "print(housing.shape)"
      ],
      "metadata": {
        "colab": {
          "base_uri": "https://localhost:8080/"
        },
        "id": "0WX6Bc7eq9up",
        "outputId": "6c882ef2-7415-4192-8622-1a7907012f60"
      },
      "execution_count": 11,
      "outputs": [
        {
          "output_type": "stream",
          "name": "stdout",
          "text": [
            "(107437, 47)\n",
            "(93117, 47)\n"
          ]
        }
      ]
    },
    {
      "cell_type": "code",
      "source": [
        "list_cols = [\"ImageData.features_reso.results\", \"Characteristics.LotFeatures\", \"ImageData.room_type_reso.results\",\n",
        "             \"Structure.Basement\", \"Structure.Cooling\", \"Structure.Heating\"]"
      ],
      "metadata": {
        "id": "kdP-BG2NrAg9"
      },
      "execution_count": 12,
      "outputs": []
    },
    {
      "cell_type": "code",
      "source": [
        "def preprocess_housing_data(housing, list_cols, all_possible_features=None):\n",
        "\n",
        "    # If not provided, calculate all possible features from the training dataset\n",
        "    if all_possible_features is None:\n",
        "        all_possible_features = {col: set() for col in list_cols}\n",
        "        for col in list_cols:\n",
        "            housing_col = housing[col]\n",
        "            for ind in housing_col.index:\n",
        "                if isinstance(housing_col[ind], str):\n",
        "                    set_feats = set([s[1:-1] for s in housing_col[ind][1:-1].split(\", \")])\n",
        "                    all_possible_features[col] = all_possible_features[col].union(set_feats)\n",
        "\n",
        "    # Preprocess each column\n",
        "    for col in list_cols:\n",
        "        # Create a new column with actual lists, not string lookalikes\n",
        "        listed_col = col + \"List\"\n",
        "        housing[listed_col] = housing[col].apply(\n",
        "            lambda x: [feat[1:-1] for feat in x[1:-1].split(\", \")] if isinstance(x, str) else []\n",
        "        )\n",
        "\n",
        "        # Add binary columns for each feature\n",
        "        for feat in all_possible_features[col]:\n",
        "            housing[col + \".\" + feat] = housing[listed_col].apply(lambda features: feat in features)\n",
        "\n",
        "        # Drop the original and intermediate columns\n",
        "        housing = housing.drop([col, listed_col], axis=1)\n",
        "\n",
        "    housing.reset_index(drop=True, inplace=True)\n",
        "    return housing, all_possible_features\n",
        "\n",
        "\n",
        "# Preprocess the training set and capture all possible features\n",
        "housing_expanded, all_features = preprocess_housing_data(housing, list_cols)\n",
        "\n",
        "# Preprocess the test set using the features extracted from the training set\n",
        "Test_expanded, _ = preprocess_housing_data(Test, list_cols, all_features)\n"
      ],
      "metadata": {
        "id": "GYGbvw5ca-P4"
      },
      "execution_count": 13,
      "outputs": []
    },
    {
      "cell_type": "code",
      "source": [
        "print(housing_expanded.shape)\n",
        "print(Test_expanded.shape)"
      ],
      "metadata": {
        "colab": {
          "base_uri": "https://localhost:8080/"
        },
        "id": "3-uAxdijbb8r",
        "outputId": "f7748cca-2305-40f8-f869-daff9990e4c8"
      },
      "execution_count": 14,
      "outputs": [
        {
          "output_type": "stream",
          "name": "stdout",
          "text": [
            "(93117, 483)\n",
            "(22039, 482)\n"
          ]
        }
      ]
    },
    {
      "cell_type": "code",
      "source": [
        "cols_to_drop = ['Location.Address.CensusBlock','Location.Address.CensusTract','Location.Address.PostalCode','Location.Address.StateOrProvince','Location.Address.StreetName','Location.Address.StreetNumber','Location.Address.UnitNumber','Location.Address.UnparsedAddress','Location.Area.SubdivisionName']"
      ],
      "metadata": {
        "id": "6C1S-a2Zt1fy"
      },
      "execution_count": 15,
      "outputs": []
    },
    {
      "cell_type": "code",
      "source": [
        "housing_expanded = housing_expanded.drop(columns=cols_to_drop)\n",
        "housing_expanded = housing_expanded.drop(columns='Listing.ListingId')\n",
        "Test_expanded = Test_expanded.drop(columns=cols_to_drop)  #keep the Id for the prediction on the test set"
      ],
      "metadata": {
        "id": "_b1iMQTSuM9h"
      },
      "execution_count": 16,
      "outputs": []
    },
    {
      "cell_type": "code",
      "source": [
        "print(housing_expanded.shape)\n",
        "print(Test_expanded.shape)"
      ],
      "metadata": {
        "colab": {
          "base_uri": "https://localhost:8080/"
        },
        "id": "2P9Pckd5uQi0",
        "outputId": "5aa7ae7d-5cd7-43c7-c832-117c328c32aa"
      },
      "execution_count": 17,
      "outputs": [
        {
          "output_type": "stream",
          "name": "stdout",
          "text": [
            "(93117, 473)\n",
            "(22039, 473)\n"
          ]
        }
      ]
    },
    {
      "cell_type": "code",
      "source": [
        "# Check if all columns in Test are present in housing_expanded\n",
        "test_cols = set(Test_expanded.columns)\n",
        "housing_cols = set(housing_expanded.columns)\n",
        "\n",
        "missing_cols = test_cols - housing_cols\n",
        "extra_cols = housing_cols - test_cols\n",
        "\n",
        "if missing_cols:\n",
        "    print(\"Columns in Test not found in housing_expanded:\")\n",
        "    print(missing_cols)\n",
        "else:\n",
        "    print(\"All columns in Test are present in housing_expanded.\")\n",
        "\n",
        "if extra_cols:\n",
        "    print(\"\\nColumns in housing_expanded not found in Test:\")\n",
        "    print(extra_cols)\n",
        "else:\n",
        "    print(\"\\nAll columns in housing_expanded are present in Test.\")"
      ],
      "metadata": {
        "colab": {
          "base_uri": "https://localhost:8080/"
        },
        "id": "uX2v2DvEcCxb",
        "outputId": "b8f10c57-c189-482e-9cd5-5eb98feef4ee"
      },
      "execution_count": 18,
      "outputs": [
        {
          "output_type": "stream",
          "name": "stdout",
          "text": [
            "Columns in Test not found in housing_expanded:\n",
            "{'Listing.ListingId'}\n",
            "\n",
            "Columns in housing_expanded not found in Test:\n",
            "{'Listing.Price.ClosePrice'}\n"
          ]
        }
      ]
    },
    {
      "cell_type": "markdown",
      "source": [
        "# Preprocessing"
      ],
      "metadata": {
        "id": "SgtQ-xVMcw1t"
      }
    },
    {
      "cell_type": "markdown",
      "source": [
        "## Transform strings of stories into numbers"
      ],
      "metadata": {
        "id": "1HgzkXW1F9kA"
      }
    },
    {
      "cell_type": "code",
      "source": [
        "def preprocess_column_with_regex(df, column_name, regex_pattern=r'\\d+(\\.\\d+)?'):\n",
        "    df = df.copy()\n",
        "    df[column_name] = df[column_name].apply(\n",
        "        lambda x: float(re.search(regex_pattern, x).group())\n",
        "        if isinstance(x, str) and re.search(regex_pattern, x) else np.nan\n",
        "    )\n",
        "    return df\n",
        "\n",
        "# Example Usage\n",
        "# Preprocessing both training and test datasets consistently\n",
        "column_to_process = 'ImageData.style.stories.summary.label'\n",
        "\n",
        "# Apply preprocessing to training and test sets\n",
        "housing_expanded = preprocess_column_with_regex(housing_expanded, column_to_process)\n",
        "Test_expanded = preprocess_column_with_regex(Test_expanded, column_to_process)\n",
        "\n",
        "# Print unique values and column type for verification\n",
        "print(\"Training Set:\")\n",
        "print(housing_expanded[column_to_process].unique())\n",
        "print(f\"Data type: {housing_expanded[column_to_process].dtype}\")\n",
        "\n",
        "print(\"\\nTest Set:\")\n",
        "print(Test_expanded[column_to_process].unique())\n",
        "print(f\"Data type: {Test_expanded[column_to_process].dtype}\")\n"
      ],
      "metadata": {
        "colab": {
          "base_uri": "https://localhost:8080/"
        },
        "id": "TGWTz0qhdliE",
        "outputId": "23c15b0a-cbec-40d6-efd9-f34b44c43aa1"
      },
      "execution_count": 19,
      "outputs": [
        {
          "output_type": "stream",
          "name": "stdout",
          "text": [
            "Training Set:\n",
            "[2.  nan 1.  3.  1.5 2.5]\n",
            "Data type: float64\n",
            "\n",
            "Test Set:\n",
            "[3.  nan 1.5 1.  2.5 2. ]\n",
            "Data type: float64\n"
          ]
        }
      ]
    },
    {
      "cell_type": "code",
      "source": [
        "print(housing_expanded.shape)\n",
        "print(Test_expanded.shape)"
      ],
      "metadata": {
        "colab": {
          "base_uri": "https://localhost:8080/"
        },
        "id": "OrEP0sdggw8I",
        "outputId": "3ed7e7c2-16ff-41b2-fa77-3205896ff32a"
      },
      "execution_count": 20,
      "outputs": [
        {
          "output_type": "stream",
          "name": "stdout",
          "text": [
            "(93117, 473)\n",
            "(22039, 473)\n"
          ]
        }
      ]
    },
    {
      "cell_type": "markdown",
      "source": [
        "## One-hot encoding"
      ],
      "metadata": {
        "id": "7AXmKlPlCzv_"
      }
    },
    {
      "cell_type": "code",
      "source": [
        "columns_to_encode = [\n",
        "    'ImageData.style.exterior.summary.label',\n",
        "    'Location.Address.CountyOrParish',\n",
        "    'Location.Address.StreetDirectionPrefix',\n",
        "    'Location.Address.StreetSuffix',\n",
        "    'Property.PropertyType'\n",
        "]\n",
        "\n",
        "housing_hot_encoding = pd.get_dummies(housing_expanded, columns=columns_to_encode, dtype=int)\n",
        "print(housing_hot_encoding.shape)\n",
        "Test_hot_encoding = pd.get_dummies(Test_expanded, columns=columns_to_encode, dtype=int)\n",
        "print(Test_hot_encoding.shape)\n"
      ],
      "metadata": {
        "colab": {
          "base_uri": "https://localhost:8080/"
        },
        "id": "WuMjSBshOfs_",
        "outputId": "be2aec30-f93e-4b4f-bc60-c4a1a3c669d1"
      },
      "execution_count": 21,
      "outputs": [
        {
          "output_type": "stream",
          "name": "stdout",
          "text": [
            "(93117, 623)\n",
            "(22039, 606)\n"
          ]
        }
      ]
    },
    {
      "cell_type": "code",
      "source": [
        "# Identify columns present in Test_hot_encoding but not in housing_hot_encoding\n",
        "cols_to_remove = set(Test_hot_encoding.columns) - set(housing_hot_encoding.columns)\n",
        "cols_to_remove.discard('Listing.ListingId')\n",
        "\n",
        "# Print the names of the columns to be removed\n",
        "print(\"Columns to remove:\")\n",
        "for col in cols_to_remove:\n",
        "    print(col)\n",
        "\n",
        "# Remove the identified columns from Test_hot_encoding\n",
        "Test_hot_encoding = Test_hot_encoding.drop(columns=cols_to_remove)\n",
        "\n",
        "print(\"\\nColumns removed successfully.\")"
      ],
      "metadata": {
        "colab": {
          "base_uri": "https://localhost:8080/"
        },
        "id": "BSlcrMWOf-pL",
        "outputId": "d2c8ecea-f121-44be-8007-bd8dec3827a5"
      },
      "execution_count": 22,
      "outputs": [
        {
          "output_type": "stream",
          "name": "stdout",
          "text": [
            "Columns to remove:\n",
            "Location.Address.CountyOrParish_pike\n",
            "Property.PropertyType_business opportunity\n",
            "Property.PropertyType_commercial lease\n",
            "Property.PropertyType_farm\n",
            "Location.Address.CountyOrParish_mcdonough\n",
            "Property.PropertyType_commercial sale\n",
            "Location.Address.CountyOrParish_cass\n",
            "\n",
            "Columns removed successfully.\n"
          ]
        }
      ]
    },
    {
      "cell_type": "code",
      "source": [
        "print(housing_hot_encoding.shape)\n",
        "print(Test_hot_encoding.shape)"
      ],
      "metadata": {
        "colab": {
          "base_uri": "https://localhost:8080/"
        },
        "id": "fIawdMo2iT62",
        "outputId": "07cf94fe-2dcc-4434-f323-92264cc02102"
      },
      "execution_count": 23,
      "outputs": [
        {
          "output_type": "stream",
          "name": "stdout",
          "text": [
            "(93117, 623)\n",
            "(22039, 599)\n"
          ]
        }
      ]
    },
    {
      "cell_type": "markdown",
      "source": [
        "## One-hot for the highest values because there are too many for one-hot\n"
      ],
      "metadata": {
        "id": "FjD7Fw94DrMT"
      }
    },
    {
      "cell_type": "code",
      "source": [
        "#Fixing high school column. Some values were appearing as ['299'] instead of 299\n",
        "column_name = 'Location.School.HighSchoolDistrict'\n",
        "housing_hot_encoding[column_name] = housing_hot_encoding[column_name].apply(\n",
        "    lambda x: re.search(r'\\d+', str(x)).group() if re.search(r'\\d+', str(x)) else None\n",
        ")\n",
        "Test_hot_encoding[column_name] = Test_hot_encoding[column_name].apply(\n",
        "    lambda x: re.search(r'\\d+', str(x)).group() if re.search(r'\\d+', str(x)) else None\n",
        ")"
      ],
      "metadata": {
        "id": "gF4zG4OvLzEp"
      },
      "execution_count": 24,
      "outputs": []
    },
    {
      "cell_type": "code",
      "source": [
        "# Step 1: Count frequencies in the training set\n",
        "city_counts_train = housing_hot_encoding['Location.Address.City'].value_counts()\n",
        "school_counts_train = housing_hot_encoding['Location.School.HighSchoolDistrict'].value_counts()\n",
        "\n",
        "# Step 2: Compute cumulative distribution in the training set\n",
        "city_counts_sorted = city_counts_train.sort_values(ascending=True)\n",
        "cumulative_city = city_counts_sorted.cumsum() / city_counts_sorted.sum()\n",
        "\n",
        "school_counts_sorted = school_counts_train.sort_values(ascending=True)\n",
        "cumulative_school = school_counts_sorted.cumsum() / school_counts_sorted.sum()\n",
        "\n",
        "# Step 3: Define groups based on cumulative distribution\n",
        "group_edges = np.linspace(0, 1, 6)  # 5 groups + 1 endpoint\n",
        "city_groups = pd.cut(cumulative_city, bins=group_edges, labels=[f'{i+1}' for i in range(5)], include_lowest=True)\n",
        "school_groups = pd.cut(cumulative_school, bins=group_edges, labels=[f'{i+1}' for i in range(5)], include_lowest=True)\n",
        "\n",
        "# Step 4: Map cities and schools to groups based on training set mapping\n",
        "city_to_group = pd.Series(city_groups, index=city_counts_sorted.index)\n",
        "school_to_group = pd.Series(school_groups, index=school_counts_sorted.index)\n",
        "\n",
        "# Apply the mappings to both training and test sets\n",
        "housing_hot_encoding['City_Group'] = housing_hot_encoding['Location.Address.City'].map(city_to_group)\n",
        "housing_hot_encoding['School_Group'] = housing_hot_encoding['Location.School.HighSchoolDistrict'].map(school_to_group)\n",
        "\n",
        "Test_hot_encoding['City_Group'] = Test_hot_encoding['Location.Address.City'].map(city_to_group)\n",
        "Test_hot_encoding['School_Group'] = Test_hot_encoding['Location.School.HighSchoolDistrict'].map(school_to_group)\n",
        "\n",
        "# Step 5: One-hot encode the new group columns\n",
        "housing_hot_encoding = pd.get_dummies(housing_hot_encoding, columns=['City_Group', 'School_Group'], dtype=int)\n",
        "Test_hot_encoding = pd.get_dummies(Test_hot_encoding, columns=['City_Group', 'School_Group'], dtype=int)\n",
        "\n",
        "# Drop unnecessary columns from both sets\n",
        "housing_hot_encoding = housing_hot_encoding.drop(columns=['Location.School.HighSchoolDistrict'])\n",
        "Test_hot_encoding = Test_hot_encoding.drop(columns=['Location.School.HighSchoolDistrict'], errors='ignore')\n",
        "\n",
        "# Print shapes for verification\n",
        "print(housing_hot_encoding.shape)\n",
        "print(Test_hot_encoding.shape)"
      ],
      "metadata": {
        "colab": {
          "base_uri": "https://localhost:8080/"
        },
        "id": "RpAXYkylju6j",
        "outputId": "c1404942-4ab8-4647-a175-9ca70852218c"
      },
      "execution_count": 25,
      "outputs": [
        {
          "output_type": "stream",
          "name": "stdout",
          "text": [
            "(93117, 632)\n",
            "(22039, 608)\n"
          ]
        }
      ]
    },
    {
      "cell_type": "markdown",
      "source": [
        "## Variables with dominant values. Check their correlation with price"
      ],
      "metadata": {
        "id": "hhboU7Z3VhHI"
      }
    },
    {
      "cell_type": "code",
      "source": [
        "housing_hot_encoding.replace({False: 0, True: 1}, inplace=True)\n",
        "Test_hot_encoding.replace({False: 0, True: 1}, inplace=True)"
      ],
      "metadata": {
        "id": "xq27tDQXVDOv"
      },
      "execution_count": 26,
      "outputs": []
    },
    {
      "cell_type": "code",
      "source": [
        "binary_cols = housing_hot_encoding.columns[housing_hot_encoding.isin([0,1]).all()]"
      ],
      "metadata": {
        "id": "kCm-z7dLVgHm"
      },
      "execution_count": 27,
      "outputs": []
    },
    {
      "cell_type": "code",
      "source": [
        "def plot_corr(housing, feat):\n",
        "    if is_numeric_dtype(housing[feat]):\n",
        "        plt.subplot(1, 2, 1)\n",
        "        plt.scatter(housing[\"Listing.Price.ClosePrice\"], housing[feat])\n",
        "        plt.xlabel(\"Listing.Price.ClosePrice\")\n",
        "        plt.ylabel(feat)\n",
        "        plt.title(f\"{feat} vs Price\")\n",
        "    else :\n",
        "        sns.boxplot(x=feat, y='Listing.Price.ClosePrice', data=housing)\n",
        "        plt.title(f\"{feat} vs Price\")\n",
        "        plt.show()"
      ],
      "metadata": {
        "id": "iVE6oNJpV2Fq"
      },
      "execution_count": 28,
      "outputs": []
    },
    {
      "cell_type": "code",
      "source": [
        "smd_eight = []\n",
        "smd_five_eight = []\n",
        "smd_below = []\n",
        "one_value_col = []\n",
        "price_std = housing_hot_encoding['Listing.Price.ClosePrice'].std()\n",
        "for i in housing_hot_encoding.columns:\n",
        "    counts = housing_hot_encoding[i].value_counts()\n",
        "    for c in counts:\n",
        "        if c/len(housing_hot_encoding)==1.0:\n",
        "            one_value_col.append(i)\n",
        "            housing_hot_encoding.drop(columns=i,inplace=True)\n",
        "        elif c/len(housing_hot_encoding)>0.80:\n",
        "            # print(i)\n",
        "            # print(counts)\n",
        "            if i in binary_cols:\n",
        "                average_target_per_binary = housing_hot_encoding.groupby(i)['Listing.Price.ClosePrice'].mean()\n",
        "                smd = abs(average_target_per_binary[1]-average_target_per_binary[0])/price_std\n",
        "                if smd >0.8:\n",
        "                    smd_eight.append(i)\n",
        "                elif smd >0.5:\n",
        "                    smd_five_eight.append(i)\n",
        "                else:\n",
        "                    smd_below.append(i)\n",
        "            plot_corr(housing_hot_encoding,i)"
      ],
      "metadata": {
        "colab": {
          "base_uri": "https://localhost:8080/",
          "height": 52
        },
        "id": "PX2ZX3paV-yB",
        "outputId": "30d7ecef-7a5a-44cf-e42a-736cf98d3332"
      },
      "execution_count": 29,
      "outputs": [
        {
          "output_type": "display_data",
          "data": {
            "text/plain": [
              "<Figure size 640x480 with 1 Axes>"
            ],
            "image/png": "[encoded data removed]"
          },
          "metadata": {}
        }
      ]
    },
    {
      "cell_type": "code",
      "source": [
        "print(len(smd_eight), len(smd_five_eight), len(smd_below),len(one_value_col))"
      ],
      "metadata": {
        "colab": {
          "base_uri": "https://localhost:8080/"
        },
        "id": "aiIrreFLWzf0",
        "outputId": "70d55055-ae0b-4482-9918-3d62510390cf"
      },
      "execution_count": 30,
      "outputs": [
        {
          "output_type": "stream",
          "name": "stdout",
          "text": [
            "67 105 376 0\n"
          ]
        }
      ]
    },
    {
      "cell_type": "code",
      "source": [
        "# Drop specified columns from both training and test sets\n",
        "housing_temp = housing_hot_encoding.drop(columns=smd_five_eight, errors='ignore')\n",
        "housing_no_doms = housing_temp.drop(columns=smd_below, errors='ignore')\n",
        "\n",
        "Test_temp = Test_hot_encoding.drop(columns=smd_five_eight, errors='ignore')\n",
        "Test_no_doms = Test_temp.drop(columns=smd_below, errors='ignore')\n",
        "\n",
        "# Print shapes for verification\n",
        "print(f\"Training dataset shape: {housing_no_doms.shape}\")\n",
        "print(f\"Test dataset shape: {Test_no_doms.shape}\")"
      ],
      "metadata": {
        "colab": {
          "base_uri": "https://localhost:8080/"
        },
        "id": "knwKTXjQYLj6",
        "outputId": "cb5cf1ed-ba3a-4215-904a-b1120544bbc5"
      },
      "execution_count": 31,
      "outputs": [
        {
          "output_type": "stream",
          "name": "stdout",
          "text": [
            "Training dataset shape: (93117, 151)\n",
            "Test dataset shape: (22039, 145)\n"
          ]
        }
      ]
    },
    {
      "cell_type": "markdown",
      "source": [
        "# Imputation of NaN values"
      ],
      "metadata": {
        "id": "Jm6JNIrjtaHE"
      }
    },
    {
      "cell_type": "markdown",
      "source": [
        "## Imputation of Latitude and Longitude"
      ],
      "metadata": {
        "id": "okc6aWbmH3j_"
      }
    },
    {
      "cell_type": "code",
      "source": [
        "# Identify cities in Test but not in housing\n",
        "cities_in_test = set(Test_no_doms['Location.Address.City'].unique())\n",
        "cities_in_housing = set(housing_no_doms['Location.Address.City'].unique())\n",
        "cities_not_in_housing = cities_in_test - cities_in_housing\n",
        "\n",
        "# Filter Test data for cities not in housing and NaN latitude/longitude\n",
        "filtered_test = Test_no_doms[Test_no_doms['Location.Address.City'].isin(cities_not_in_housing) & (Test_no_doms['Location.GIS.Latitude'].isna() | Test_no_doms['Location.GIS.Longitude'].isna())]\n",
        "\n",
        "# Calculate average latitude and longitude from housing\n",
        "avg_latitude = housing_no_doms['Location.GIS.Latitude'].mean()\n",
        "avg_longitude = housing_no_doms['Location.GIS.Longitude'].mean()\n",
        "\n",
        "# Count lines\n",
        "num_lines = len(filtered_test)\n",
        "print(f\"Number of lines in Test with cities not in housing and NaN latitude or longitude: {num_lines}\")\n",
        "\n",
        "# Impute NaN values (if needed)\n",
        "Test_no_doms.loc[Test_no_doms['Location.Address.City'].isin(cities_not_in_housing), 'Location.GIS.Latitude'] = Test_no_doms['Location.GIS.Latitude'].fillna(avg_latitude)\n",
        "Test_no_doms.loc[Test_no_doms['Location.Address.City'].isin(cities_not_in_housing), 'Location.GIS.Longitude'] = Test_no_doms['Location.GIS.Longitude'].fillna(avg_longitude)"
      ],
      "metadata": {
        "colab": {
          "base_uri": "https://localhost:8080/"
        },
        "id": "B9A7qMI9qXoM",
        "outputId": "8b9e7794-db76-409f-8ebc-e92cedcf12b2"
      },
      "execution_count": 32,
      "outputs": [
        {
          "output_type": "stream",
          "name": "stdout",
          "text": [
            "Number of lines in Test with cities not in housing and NaN latitude or longitude: 7\n"
          ]
        }
      ]
    },
    {
      "cell_type": "code",
      "source": [
        "# Create a subset of the training data where latitude and longitude are not missing\n",
        "housing_geo_notna = housing_no_doms[\n",
        "    housing_no_doms[\"Location.GIS.Longitude\"].notna() & housing_no_doms[\"Location.GIS.Latitude\"].notna()\n",
        "]\n",
        "\n",
        "# Initialize dictionaries for storing mean latitude and longitude by city\n",
        "city_lats = {}\n",
        "city_longs = {}\n",
        "\n",
        "# Extract relevant columns\n",
        "lats = housing_geo_notna[\"Location.GIS.Latitude\"]\n",
        "longs = housing_geo_notna[\"Location.GIS.Longitude\"]\n",
        "cities = housing_geo_notna[\"Location.Address.City\"]\n",
        "\n",
        "# Compute mean latitude and longitude for each city\n",
        "for ind in housing_geo_notna.index:\n",
        "    if isinstance(lats[ind], np.float64) and isinstance(longs[ind], np.float64):\n",
        "        city = cities[ind]\n",
        "        lat = lats[ind]\n",
        "        long = longs[ind]\n",
        "        if city not in city_lats:\n",
        "            city_lats[city] = []\n",
        "            city_longs[city] = []\n",
        "\n",
        "        city_lats[city].append(lat)\n",
        "        city_longs[city].append(long)\n",
        "\n",
        "for city in city_lats:\n",
        "    city_lats[city] = np.mean(city_lats[city])\n",
        "    city_longs[city] = np.mean(city_longs[city])\n",
        "\n",
        "# Impute missing latitude and longitude values in the training dataset\n",
        "housing_no_doms.loc[housing_no_doms[\"Location.GIS.Longitude\"].isna(), \"Location.GIS.Longitude\"] = housing_no_doms[\"Location.Address.City\"].map(city_longs)\n",
        "housing_no_doms.loc[housing_no_doms[\"Location.GIS.Latitude\"].isna(), \"Location.GIS.Latitude\"] = housing_no_doms[\"Location.Address.City\"].map(city_lats)\n",
        "\n",
        "# Impute missing latitude and longitude values in the test dataset\n",
        "Test_no_doms.loc[Test_no_doms[\"Location.GIS.Longitude\"].isna(), \"Location.GIS.Longitude\"] = Test_no_doms[\"Location.Address.City\"].map(city_longs)\n",
        "Test_no_doms.loc[Test_no_doms[\"Location.GIS.Latitude\"].isna(), \"Location.GIS.Latitude\"] = Test_no_doms[\"Location.Address.City\"].map(city_lats)\n",
        "\n",
        "# Drop rows with missing latitude or longitude after imputation\n",
        "housing_no_doms = housing_no_doms.dropna(subset=[\"Location.GIS.Longitude\", \"Location.GIS.Latitude\"])\n",
        "Test_no_doms = Test_no_doms.dropna(subset=[\"Location.GIS.Longitude\", \"Location.GIS.Latitude\"])\n",
        "\n",
        "# Compute the minimum longitude and maximum latitude based on the training dataset\n",
        "long_min = housing_no_doms[\"Location.GIS.Longitude\"].min()\n",
        "lat_max = housing_no_doms[\"Location.GIS.Latitude\"].max()\n",
        "\n",
        "# Subtract the minimum/maximum values to normalize latitudes and longitudes\n",
        "housing_no_doms[\"Location.GIS.Longitude\"] -= long_min\n",
        "housing_no_doms[\"Location.GIS.Latitude\"] -= lat_max\n",
        "\n",
        "Test_no_doms[\"Location.GIS.Longitude\"] -= long_min\n",
        "Test_no_doms[\"Location.GIS.Latitude\"] -= lat_max"
      ],
      "metadata": {
        "id": "OVFvnaRisaOo"
      },
      "execution_count": 33,
      "outputs": []
    },
    {
      "cell_type": "code",
      "source": [
        "housing_no_doms=housing_no_doms.drop(columns = ['Location.Address.City'])\n",
        "Test_no_doms=Test_no_doms.drop(columns = ['Location.Address.City'])"
      ],
      "metadata": {
        "id": "STYh2FApXobz"
      },
      "execution_count": 34,
      "outputs": []
    },
    {
      "cell_type": "code",
      "source": [
        "print(f\"Training dataset shape: {housing_no_doms.shape}\")\n",
        "print(f\"Test dataset shape: {Test_no_doms.shape}\")"
      ],
      "metadata": {
        "colab": {
          "base_uri": "https://localhost:8080/"
        },
        "id": "M8-3wYR4b3rP",
        "outputId": "1ee3f204-665a-45f2-9e55-5f1b67a95c11"
      },
      "execution_count": 35,
      "outputs": [
        {
          "output_type": "stream",
          "name": "stdout",
          "text": [
            "Training dataset shape: (93104, 150)\n",
            "Test dataset shape: (22039, 144)\n"
          ]
        }
      ]
    },
    {
      "cell_type": "code",
      "source": [
        "# Check if all columns in Test are present in housing_expanded\n",
        "test_cols = set(Test_expanded.columns)\n",
        "housing_cols = set(housing_expanded.columns)\n",
        "\n",
        "missing_cols = test_cols - housing_cols\n",
        "extra_cols = housing_cols - test_cols\n",
        "\n",
        "if missing_cols:\n",
        "    print(\"Columns in Test not found in housing_expanded:\")\n",
        "    print(missing_cols)\n",
        "else:\n",
        "    print(\"All columns in Test are present in housing_expanded.\")\n",
        "\n",
        "if extra_cols:\n",
        "    print(\"\\nColumns in housing_expanded not found in Test:\")\n",
        "    print(extra_cols)\n",
        "else:\n",
        "    print(\"\\nAll columns in housing_expanded are present in Test.\")"
      ],
      "metadata": {
        "colab": {
          "base_uri": "https://localhost:8080/"
        },
        "id": "A4AjD0g4ztNa",
        "outputId": "96ffa0bf-2391-463c-d624-01752e653915"
      },
      "execution_count": 36,
      "outputs": [
        {
          "output_type": "stream",
          "name": "stdout",
          "text": [
            "Columns in Test not found in housing_expanded:\n",
            "{'Listing.ListingId'}\n",
            "\n",
            "Columns in housing_expanded not found in Test:\n",
            "{'Listing.Price.ClosePrice'}\n"
          ]
        }
      ]
    },
    {
      "cell_type": "markdown",
      "source": [
        "## Imputation of missing variables"
      ],
      "metadata": {
        "id": "jV5k5-650mOK"
      }
    },
    {
      "cell_type": "code",
      "source": [
        "housing_v1=housing_no_doms\n",
        "Test_v1=Test_no_doms"
      ],
      "metadata": {
        "id": "9xdL63m74rRx"
      },
      "execution_count": 37,
      "outputs": []
    },
    {
      "cell_type": "code",
      "source": [
        "miss = housing_v1.isna().sum()\n",
        "# Remove columns with 0% missing values\n",
        "miss_filtered = miss[miss > 0]\n",
        "\n",
        "# Sort the remaining columns in descending order of missing percentage\n",
        "miss_sorted = miss_filtered.sort_values(ascending=False)\n",
        "print(miss_sorted)\n",
        "# Define the list of columns for analysis\n",
        "columns_to_analyze = miss_filtered.keys()\n",
        "\n",
        "# Calculate descriptive statistics only for columns that are fully numeric (int or float)\n",
        "stats_summary = {}\n",
        "for col in columns_to_analyze:\n",
        "    if col in housing_v1.columns:\n",
        "        # Check if the column is numeric\n",
        "        if pd.api.types.is_numeric_dtype(housing_v1[col]):\n",
        "            col_data = housing_v1[col].dropna()  # Drop missing values for analysis\n",
        "            stats_summary[col] = {\n",
        "                'Min': col_data.min(),\n",
        "                'Max': col_data.max(),\n",
        "                'Mean': col_data.mean(),\n",
        "                'Median': col_data.median(),\n",
        "                'Standard Deviation': col_data.std(),\n",
        "                'Unique Values': col_data.nunique(),\n",
        "                'Most Frequent': col_data.mode()[0] if not col_data.mode().empty else None\n",
        "            }\n",
        "\n",
        "# Convert to a DataFrame for better display\n",
        "stats_summary_df = pd.DataFrame(stats_summary)\n",
        "\n",
        "for col in columns_to_analyze:\n",
        "    if col == 'Structure.LivingArea':\n",
        "        Test_v1[col] = Test_v1[col].fillna(stats_summary[col]['Median'])\n",
        "        continue\n",
        "    elif col == 'Structure.BathroomsFull':\n",
        "        housing_v1[col] = housing_v1[col].fillna(1)\n",
        "        Test_v1[col] = Test_v1[col].fillna(1)\n",
        "    elif col == 'Structure.BathroomsHalf' or col == 'Structure.GarageSpaces' or col == 'Structure.FireplacesTotal':\n",
        "        housing_v1[col] = housing_v1[col].fillna(0)\n",
        "        Test_v1[col] = Test_v1[col].fillna(0)\n",
        "    elif col == 'Structure.BedroomsTotal' or col == 'Structure.Rooms.RoomsTotal':\n",
        "        housing_v1 = housing_v1.dropna(subset=[col])\n",
        "        Test_v1[col] = Test_v1[col].fillna(0)\n",
        "    else:\n",
        "        housing_v1[col] = housing_v1[col].fillna(stats_summary[col]['Median'])\n",
        "        Test_v1[col] = Test_v1[col].fillna(stats_summary[col]['Median'])\n"
      ],
      "metadata": {
        "colab": {
          "base_uri": "https://localhost:8080/"
        },
        "id": "Ab1LkevXz_UH",
        "outputId": "8c243ae2-9e7f-4e26-f30f-bf89ef544936"
      },
      "execution_count": 38,
      "outputs": [
        {
          "output_type": "stream",
          "name": "stdout",
          "text": [
            "Structure.FireplacesTotal                44798\n",
            "ImageData.style.stories.summary.label    17746\n",
            "ImageData.q1q6.summary.exterior          15879\n",
            "ImageData.c1c6.summary.exterior          13817\n",
            "Structure.GarageSpaces                   12570\n",
            "ImageData.q1q6.summary.bathroom           5750\n",
            "ImageData.c1c6.summary.bathroom           5723\n",
            "ImageData.q1q6.summary.kitchen            4448\n",
            "ImageData.c1c6.summary.kitchen            4431\n",
            "Structure.YearBuilt                       3535\n",
            "ImageData.q1q6.summary.interior           3493\n",
            "ImageData.c1c6.summary.interior           3489\n",
            "Structure.LivingArea                      2319\n",
            "Structure.BathroomsHalf                   1915\n",
            "Structure.BathroomsFull                   1910\n",
            "ImageData.q1q6.summary.property             21\n",
            "Structure.BedroomsTotal                     13\n",
            "Structure.Rooms.RoomsTotal                   1\n",
            "dtype: int64\n"
          ]
        }
      ]
    },
    {
      "cell_type": "code",
      "source": [
        "print(housing_v1.shape)\n",
        "print(Test_v1.shape)"
      ],
      "metadata": {
        "colab": {
          "base_uri": "https://localhost:8080/"
        },
        "id": "RCydLNmXwZCA",
        "outputId": "5f86fce5-08d8-4d51-83e1-5af75b429573"
      },
      "execution_count": 39,
      "outputs": [
        {
          "output_type": "stream",
          "name": "stdout",
          "text": [
            "(93090, 150)\n",
            "(22039, 144)\n"
          ]
        }
      ]
    },
    {
      "cell_type": "markdown",
      "source": [
        "## Impute living area based on total rooms"
      ],
      "metadata": {
        "id": "yN4Z4AxZ4lpI"
      }
    },
    {
      "cell_type": "code",
      "source": [
        "housing_area_notna = housing_v1[housing_v1[\"Structure.LivingArea\"].notna()]\n",
        "\n",
        "roomstotal_livingarea = {}\n",
        "roomstotals = housing_area_notna[\"Structure.Rooms.RoomsTotal\"]\n",
        "livingareas = housing_area_notna[\"Structure.LivingArea\"]\n",
        "\n",
        "# find the mean of living area for different number of rooms\n",
        "for ind in housing_area_notna.index:\n",
        "  if isinstance(livingareas[ind], np.float64):\n",
        "    roomstotal = roomstotals[ind]\n",
        "    livingarea = livingareas[ind]\n",
        "    if roomstotal not in roomstotal_livingarea:\n",
        "      roomstotal_livingarea[roomstotal] = []\n",
        "    roomstotal_livingarea[roomstotal].append(livingarea)\n",
        "\n",
        "# print(roomstotal_livingarea[10.0])\n",
        "for rt in roomstotal_livingarea:\n",
        "  size = len(roomstotal_livingarea[rt])\n",
        "  temp = sum(roomstotal_livingarea[rt])\n",
        "  # if rt == 10.0:\n",
        "    # print(temp)\n",
        "  roomstotal_livingarea[rt] = temp\n",
        "  roomstotal_livingarea[rt] /= size"
      ],
      "metadata": {
        "id": "Jg2If8p84qHX"
      },
      "execution_count": 40,
      "outputs": []
    },
    {
      "cell_type": "code",
      "source": [
        "# Impute missing 'Structure.LivingArea' in the training set based on 'Structure.Rooms.RoomsTotal'\n",
        "housing_v1.loc[housing_v1[\"Structure.LivingArea\"].isna(), \"Structure.LivingArea\"] = (\n",
        "    housing_v1[\"Structure.Rooms.RoomsTotal\"].map(roomstotal_livingarea)\n",
        ")\n",
        "\n",
        "# Remove rows with NA in 'Structure.LivingArea' after imputation in the training set\n",
        "housing_v1 = housing_v1.dropna(subset=[\"Structure.LivingArea\"])\n",
        "print(\"Shape of the training set after 'Structure.LivingArea' imputation:\", housing_v1.shape)\n",
        "\n",
        "# Impute missing 'Structure.LivingArea' in the test set using the same mapping\n",
        "Test_v1.loc[Test_v1[\"Structure.LivingArea\"].isna(), \"Structure.LivingArea\"] = (\n",
        "    Test_v1[\"Structure.Rooms.RoomsTotal\"].map(roomstotal_livingarea)\n",
        ")\n",
        "\n",
        "# Remove rows with NA in 'Structure.LivingArea' after imputation in the test set\n",
        "print(\"Shape of the test set after 'Structure.LivingArea' imputation:\", Test_v1.shape)"
      ],
      "metadata": {
        "colab": {
          "base_uri": "https://localhost:8080/"
        },
        "id": "eKMe8m1ExfIB",
        "outputId": "1c3a3dbb-d79a-45a6-fa84-fd1284cd71d8"
      },
      "execution_count": 41,
      "outputs": [
        {
          "output_type": "stream",
          "name": "stdout",
          "text": [
            "Shape of the training set after 'Structure.LivingArea' imputation: (93017, 150)\n",
            "Shape of the test set after 'Structure.LivingArea' imputation: (22039, 144)\n"
          ]
        }
      ]
    },
    {
      "cell_type": "markdown",
      "source": [
        "# Additional formatting and outliers"
      ],
      "metadata": {
        "id": "qk_qAts75Iua"
      }
    },
    {
      "cell_type": "markdown",
      "source": [
        "## Date formatting"
      ],
      "metadata": {
        "id": "oW2V-L8f5DU3"
      }
    },
    {
      "cell_type": "code",
      "source": [
        "# Convert 'Listing.Dates.CloseDate' to datetime in the training set\n",
        "housing_v1[\"date\"] = pd.to_datetime(housing_v1[\"Listing.Dates.CloseDate\"])\n",
        "\n",
        "# Calculate the minimum date from the training set to use as a reference\n",
        "min_date = housing_v1[\"date\"].min()\n",
        "\n",
        "# Calculate 'days_since_start' for the training set\n",
        "housing_v1[\"days_since_start\"] = (housing_v1[\"date\"] - min_date).dt.days\n",
        "\n",
        "# Drop the original date columns from the training set\n",
        "housing_v1 = housing_v1.drop([\"Listing.Dates.CloseDate\", \"date\"], axis=1)\n",
        "print(\"Training set processed with 'days_since_start' feature added.\")\n",
        "\n",
        "# Convert 'Listing.Dates.CloseDate' to datetime in the test set\n",
        "Test_v1[\"date\"] = pd.to_datetime(Test_v1[\"Listing.Dates.CloseDate\"])\n",
        "\n",
        "# Calculate 'days_since_start' for the test set using the minimum date from the training set\n",
        "Test_v1[\"days_since_start\"] = (Test_v1[\"date\"] - min_date).dt.days\n",
        "\n",
        "# Drop the original date columns from the test set\n",
        "Test_v1 = Test_v1.drop([\"Listing.Dates.CloseDate\", \"date\"], axis=1)\n",
        "print(\"Test set processed with 'days_since_start' feature added.\")"
      ],
      "metadata": {
        "colab": {
          "base_uri": "https://localhost:8080/"
        },
        "id": "WcSrecFfyKUZ",
        "outputId": "1c9a0ee4-49e9-4ebf-ace9-21aa98353e6b"
      },
      "execution_count": 42,
      "outputs": [
        {
          "output_type": "stream",
          "name": "stdout",
          "text": [
            "Training set processed with 'days_since_start' feature added.\n",
            "Test set processed with 'days_since_start' feature added.\n"
          ]
        }
      ]
    },
    {
      "cell_type": "code",
      "source": [
        "print(housing_v1.shape)\n",
        "print(Test_v1.shape)"
      ],
      "metadata": {
        "colab": {
          "base_uri": "https://localhost:8080/"
        },
        "id": "VDKSao6k1RCW",
        "outputId": "71f80ee1-d5e6-4c7d-94e9-cf2bb5e3d05f"
      },
      "execution_count": 43,
      "outputs": [
        {
          "output_type": "stream",
          "name": "stdout",
          "text": [
            "(93017, 150)\n",
            "(22039, 144)\n"
          ]
        }
      ]
    },
    {
      "cell_type": "code",
      "source": [
        "print(f\"Number of total missing values: {housing_v1.isnull().sum().sum()}\")\n",
        "print(f\"Number of total missing values: {Test_v1.isnull().sum().sum()}\")"
      ],
      "metadata": {
        "colab": {
          "base_uri": "https://localhost:8080/"
        },
        "id": "6StsMWKv5c4y",
        "outputId": "096b769a-a584-4f87-8501-69dbc9dc0dab"
      },
      "execution_count": 44,
      "outputs": [
        {
          "output_type": "stream",
          "name": "stdout",
          "text": [
            "Number of total missing values: 0\n",
            "Number of total missing values: 1017\n"
          ]
        }
      ]
    },
    {
      "cell_type": "code",
      "source": [
        "# prompt: for missing values in 'ImageData.c1c6.summary.property ' of Test_v1 put the average of the same column in housing_v1\n",
        "\n",
        "# Calculate the average of 'ImageData.c1c6.summary.property' in housing_v1\n",
        "average_property_value = housing_v1['ImageData.c1c6.summary.property'].mean()\n",
        "\n",
        "# Fill missing values in Test_v1 with the calculated average\n",
        "Test_v1['ImageData.c1c6.summary.property'].fillna(average_property_value, inplace=True)"
      ],
      "metadata": {
        "id": "0roY8PKByf1K"
      },
      "execution_count": 45,
      "outputs": []
    },
    {
      "cell_type": "code",
      "source": [
        "housing_v1.to_csv('/content/drive/MyDrive/Housing_v2.csv',index=False)\n",
        "Test_v1.to_csv('/content/drive/MyDrive/Test_v2.csv',index=False)"
      ],
      "metadata": {
        "id": "CBkzZOo_0u2J"
      },
      "execution_count": 46,
      "outputs": []
    },
    {
      "cell_type": "markdown",
      "source": [
        "## Outliers"
      ],
      "metadata": {
        "id": "W9SElJE_2t7V"
      }
    },
    {
      "cell_type": "code",
      "source": [
        "housing_v2 = pd.read_csv('/content/drive/MyDrive/Housing_v2.csv')\n",
        "\n",
        "max_index = housing_v2['Listing.Price.ClosePrice'].idxmax()\n",
        "print(housing_v2['Listing.Price.ClosePrice'].max())\n",
        "housing_v2 = housing_v2.drop(max_index)\n",
        "\n",
        "max_index = housing_v2['Structure.BathroomsFull'].idxmax()\n",
        "print(housing_v2['Structure.BathroomsFull'].max())\n",
        "housing_v2 = housing_v2.drop(max_index)\n",
        "\n",
        "max_index = housing_v2['Structure.FireplacesTotal'].idxmax()\n",
        "print(housing_v2['Structure.FireplacesTotal'].max())\n",
        "housing_v2 = housing_v2.drop(max_index)\n",
        "\n",
        "# Filter rows where 'Structure.GarageSpaces' is greater than 20\n",
        "rows_to_change = housing_v2[housing_v2['Structure.GarageSpaces'] > 20]\n",
        "# Change the value to 20 in the filtered rows\n",
        "housing_v2.loc[rows_to_change.index, 'Structure.GarageSpaces'] = 20\n",
        "\n",
        "\n",
        "# Filter rows where 'Structure.YearBuilt' is less than 1800\n",
        "rows_to_change = housing_v2[housing_v2['Structure.YearBuilt'] < 1800]\n",
        "# Change the value to 1800 in the filtered rows\n",
        "housing_v2.loc[rows_to_change.index, 'Structure.YearBuilt'] = 1800\n",
        "\n",
        "housing_v2.shape"
      ],
      "metadata": {
        "colab": {
          "base_uri": "https://localhost:8080/"
        },
        "id": "T3vW8mK122an",
        "outputId": "1c73bcff-1fdd-453f-9b0b-f6b7c09a4a07"
      },
      "execution_count": 47,
      "outputs": [
        {
          "output_type": "stream",
          "name": "stdout",
          "text": [
            "35550000.0\n",
            "75.0\n",
            "21.0\n"
          ]
        },
        {
          "output_type": "execute_result",
          "data": {
            "text/plain": [
              "(93014, 150)"
            ]
          },
          "metadata": {},
          "execution_count": 47
        }
      ]
    },
    {
      "cell_type": "code",
      "source": [
        "#Very low house prices are difficult to predict, so we remove lines with price lower than 10000\n",
        "index_to_remove = housing_v2[housing_v2['Listing.Price.ClosePrice'] < 10000].index\n",
        "print('Removed ', len(index_to_remove), ' lines with price lower than 10000')\n",
        "housing_v2 = housing_v2.drop(index_to_remove)\n",
        "\n",
        "housing_v2.shape"
      ],
      "metadata": {
        "colab": {
          "base_uri": "https://localhost:8080/"
        },
        "id": "qsoq4H0B1fQb",
        "outputId": "b28ae636-941a-4841-fc10-42781870ca1b"
      },
      "execution_count": 48,
      "outputs": [
        {
          "output_type": "stream",
          "name": "stdout",
          "text": [
            "Removed  36  lines with price lower than 10000\n"
          ]
        },
        {
          "output_type": "execute_result",
          "data": {
            "text/plain": [
              "(92978, 150)"
            ]
          },
          "metadata": {},
          "execution_count": 48
        }
      ]
    },
    {
      "cell_type": "code",
      "source": [
        "housing_v2.to_csv('/content/drive/MyDrive/Housing_v3.csv',index=False)"
      ],
      "metadata": {
        "id": "UPw5DrU93j17"
      },
      "execution_count": 49,
      "outputs": []
    },
    {
      "cell_type": "markdown",
      "source": [
        "# Feature Selection and Dimensionality Reduction for Predicting"
      ],
      "metadata": {
        "id": "nFtQ0RZ_Dil-"
      }
    },
    {
      "cell_type": "code",
      "source": [
        "housing_v3 = pd.read_csv(\"/content/drive/MyDrive/Housing_v3.csv\")\n",
        "housing_v3.shape"
      ],
      "metadata": {
        "colab": {
          "base_uri": "https://localhost:8080/"
        },
        "id": "5zJw3WoLDi5B",
        "outputId": "88650796-bece-49a3-9361-8b9e0d7f480d"
      },
      "execution_count": 50,
      "outputs": [
        {
          "output_type": "execute_result",
          "data": {
            "text/plain": [
              "(92978, 150)"
            ]
          },
          "metadata": {},
          "execution_count": 50
        }
      ]
    },
    {
      "cell_type": "code",
      "source": [
        "perce_miss = housing_v3.isna().sum()/len(housing_v3)\n",
        "for i in perce_miss:\n",
        "      if i >0.0:\n",
        "        print(perce_miss[perce_miss == i].index[0], i )"
      ],
      "metadata": {
        "id": "Ln-tAzZQDrif"
      },
      "execution_count": 51,
      "outputs": []
    },
    {
      "cell_type": "markdown",
      "source": [
        "### Correlation Analysis and Feature Dropping"
      ],
      "metadata": {
        "id": "yMFhbj-xFDTm"
      }
    },
    {
      "cell_type": "code",
      "source": [
        "X = housing_v3.drop(['Listing.Price.ClosePrice'], axis=1)\n",
        "y = housing_v3['Listing.Price.ClosePrice']\n",
        "corr_matrix = X.corr().abs()\n",
        "high_corr_var=np.where(corr_matrix>0.8)\n",
        "high_corr_var=[(corr_matrix.columns[x],corr_matrix.columns[y]) for x,y in zip(*high_corr_var) if x!=y and x<y]\n",
        "# Drop the second feature from each pair\n",
        "features_to_drop = [pair[1] for pair in high_corr_var]\n",
        "# Drop these features from the DataFrame\n",
        "X_dropped = X.drop(columns=features_to_drop)\n",
        "model = ExtraTreesRegressor()\n",
        "model.fit(X_dropped,y)\n",
        "# print(model.feature_importances_)\n",
        "feat_importances = pd.Series(model.feature_importances_, index=X_dropped.columns)\n",
        "sorted_feat_importances = feat_importances.sort_values(ascending=False)\n",
        "feat_importances.nlargest(30).plot(kind='barh')\n",
        "plt.show()"
      ],
      "metadata": {
        "colab": {
          "base_uri": "https://localhost:8080/",
          "height": 52
        },
        "id": "Bk9b5iRjDsNS",
        "outputId": "7500176a-487c-4284-a376-2d3341e537cf"
      },
      "execution_count": 52,
      "outputs": [
        {
          "output_type": "display_data",
          "data": {
            "text/plain": [
              "<Figure size 640x480 with 1 Axes>"
            ],
            "image/png": "[encoded data removed]"
          },
          "metadata": {}
        }
      ]
    },
    {
      "cell_type": "markdown",
      "source": [
        "### Feature Selection"
      ],
      "metadata": {
        "id": "qX8MgyVgFbep"
      }
    },
    {
      "cell_type": "code",
      "source": [
        "sorted_feat_importances = feat_importances.sort_values(ascending=False)\n",
        "percentage_series = (sorted_feat_importances * 100).round(4)\n",
        "cols_to_keep = percentage_series[percentage_series>0.5].index\n",
        "train_cols=cols_to_keep.tolist()\n",
        "train_cols.append('Listing.Price.ClosePrice')\n",
        "housing_v3=housing_v3[train_cols]\n",
        "print(housing_v3.shape)\n",
        "housing_v3.head()"
      ],
      "metadata": {
        "colab": {
          "base_uri": "https://localhost:8080/",
          "height": 265
        },
        "id": "vP8Ho6oxD_Ny",
        "outputId": "81c1d3fc-5b56-40a1-857f-7e7118c1f756"
      },
      "execution_count": 53,
      "outputs": [
        {
          "output_type": "stream",
          "name": "stdout",
          "text": [
            "(92978, 26)\n"
          ]
        },
        {
          "output_type": "execute_result",
          "data": {
            "text/plain": [
              "   Structure.BathroomsFull  ImageData.q1q6.summary.kitchen  \\\n",
              "0                      7.0                             3.2   \n",
              "1                      3.0                             2.5   \n",
              "2                      2.0                             2.3   \n",
              "3                      1.0                             4.3   \n",
              "4                      2.0                             3.9   \n",
              "\n",
              "   Structure.LivingArea  Structure.Rooms.RoomsTotal  \\\n",
              "0                 787.0                        10.0   \n",
              "1                4679.0                        10.0   \n",
              "2                1700.0                         8.0   \n",
              "3                 900.0                         5.0   \n",
              "4                1200.0                         4.0   \n",
              "\n",
              "   ImageData.q1q6.summary.interior  Structure.Cooling.zoned  \\\n",
              "0                              3.0                        1   \n",
              "1                              2.7                        0   \n",
              "2                              2.4                        0   \n",
              "3                              3.4                        0   \n",
              "4                              3.2                        0   \n",
              "\n",
              "   Location.GIS.Latitude  ImageData.q1q6.summary.bathroom  \\\n",
              "0              -0.321074                              3.3   \n",
              "1              -0.096784                              2.6   \n",
              "2              -0.069465                              2.6   \n",
              "3              -0.919447                              4.2   \n",
              "4              -0.046846                              4.1   \n",
              "\n",
              "   Location.GIS.Longitude  Structure.BathroomsHalf  ...  \\\n",
              "0                4.424625                      2.0  ...   \n",
              "1                4.048727                      1.0  ...   \n",
              "2                4.028478                      0.0  ...   \n",
              "3                4.557885                      0.0  ...   \n",
              "4                3.995096                      0.0  ...   \n",
              "\n",
              "   ImageData.features_reso.results.Appliances.BuiltInRefrigerator  \\\n",
              "0                                                  0                \n",
              "1                                                  0                \n",
              "2                                                  1                \n",
              "3                                                  0                \n",
              "4                                                  0                \n",
              "\n",
              "   Structure.BedroomsTotal  Structure.GarageSpaces  Structure.Basement.none  \\\n",
              "0                      5.0                     5.0                        0   \n",
              "1                      4.0                     2.0                        0   \n",
              "2                      4.0                     0.0                        1   \n",
              "3                      3.0                     2.5                        1   \n",
              "4                      3.0                     0.0                        1   \n",
              "\n",
              "   ImageData.features_reso.results.Appliances.Dishwasher  days_since_start  \\\n",
              "0                                                  0                   251   \n",
              "1                                                  0                   305   \n",
              "2                                                  1                   311   \n",
              "3                                                  0                   141   \n",
              "4                                                  1                   222   \n",
              "\n",
              "   ImageData.c1c6.summary.bathroom  ImageData.q1q6.summary.exterior  \\\n",
              "0                              3.2                              3.0   \n",
              "1                              2.0                              3.5   \n",
              "2                              2.0                              3.5   \n",
              "3                              4.2                              4.5   \n",
              "4                              3.7                              3.5   \n",
              "\n",
              "   Characteristics.LotFeatures.beach  Listing.Price.ClosePrice  \n",
              "0                                  0                 1500000.0  \n",
              "1                                  0                  725000.0  \n",
              "2                                  0                  130000.0  \n",
              "3                                  0                  110000.0  \n",
              "4                                  0                   75000.0  \n",
              "\n",
              "[5 rows x 26 columns]"
            ],
            "text/html": [
              "\n",
              "  <div id=\"df-9af7f573-0d11-42b7-b260-60953eb34b6c\" class=\"colab-df-container\">\n",
              "    <div>\n",
              "<style scoped>\n",
              "    .dataframe tbody tr th:only-of-type {\n",
              "        vertical-align: middle;\n",
              "    }\n",
              "\n",
              "    .dataframe tbody tr th {\n",
              "        vertical-align: top;\n",
              "    }\n",
              "\n",
              "    .dataframe thead th {\n",
              "        text-align: right;\n",
              "    }\n",
              "</style>\n",
              "<table border=\"1\" class=\"dataframe\">\n",
              "  <thead>\n",
              "    <tr style=\"text-align: right;\">\n",
              "      <th></th>\n",
              "      <th>Structure.BathroomsFull</th>\n",
              "      <th>ImageData.q1q6.summary.kitchen</th>\n",
              "      <th>Structure.LivingArea</th>\n",
              "      <th>Structure.Rooms.RoomsTotal</th>\n",
              "      <th>ImageData.q1q6.summary.interior</th>\n",
              "      <th>Structure.Cooling.zoned</th>\n",
              "      <th>Location.GIS.Latitude</th>\n",
              "      <th>ImageData.q1q6.summary.bathroom</th>\n",
              "      <th>Location.GIS.Longitude</th>\n",
              "      <th>Structure.BathroomsHalf</th>\n",
              "      <th>...</th>\n",
              "      <th>ImageData.features_reso.results.Appliances.BuiltInRefrigerator</th>\n",
              "      <th>Structure.BedroomsTotal</th>\n",
              "      <th>Structure.GarageSpaces</th>\n",
              "      <th>Structure.Basement.none</th>\n",
              "      <th>ImageData.features_reso.results.Appliances.Dishwasher</th>\n",
              "      <th>days_since_start</th>\n",
              "      <th>ImageData.c1c6.summary.bathroom</th>\n",
              "      <th>ImageData.q1q6.summary.exterior</th>\n",
              "      <th>Characteristics.LotFeatures.beach</th>\n",
              "      <th>Listing.Price.ClosePrice</th>\n",
              "    </tr>\n",
              "  </thead>\n",
              "  <tbody>\n",
              "    <tr>\n",
              "      <th>0</th>\n",
              "      <td>7.0</td>\n",
              "      <td>3.2</td>\n",
              "      <td>787.0</td>\n",
              "      <td>10.0</td>\n",
              "      <td>3.0</td>\n",
              "      <td>1</td>\n",
              "      <td>-0.321074</td>\n",
              "      <td>3.3</td>\n",
              "      <td>4.424625</td>\n",
              "      <td>2.0</td>\n",
              "      <td>...</td>\n",
              "      <td>0</td>\n",
              "      <td>5.0</td>\n",
              "      <td>5.0</td>\n",
              "      <td>0</td>\n",
              "      <td>0</td>\n",
              "      <td>251</td>\n",
              "      <td>3.2</td>\n",
              "      <td>3.0</td>\n",
              "      <td>0</td>\n",
              "      <td>1500000.0</td>\n",
              "    </tr>\n",
              "    <tr>\n",
              "      <th>1</th>\n",
              "      <td>3.0</td>\n",
              "      <td>2.5</td>\n",
              "      <td>4679.0</td>\n",
              "      <td>10.0</td>\n",
              "      <td>2.7</td>\n",
              "      <td>0</td>\n",
              "      <td>-0.096784</td>\n",
              "      <td>2.6</td>\n",
              "      <td>4.048727</td>\n",
              "      <td>1.0</td>\n",
              "      <td>...</td>\n",
              "      <td>0</td>\n",
              "      <td>4.0</td>\n",
              "      <td>2.0</td>\n",
              "      <td>0</td>\n",
              "      <td>0</td>\n",
              "      <td>305</td>\n",
              "      <td>2.0</td>\n",
              "      <td>3.5</td>\n",
              "      <td>0</td>\n",
              "      <td>725000.0</td>\n",
              "    </tr>\n",
              "    <tr>\n",
              "      <th>2</th>\n",
              "      <td>2.0</td>\n",
              "      <td>2.3</td>\n",
              "      <td>1700.0</td>\n",
              "      <td>8.0</td>\n",
              "      <td>2.4</td>\n",
              "      <td>0</td>\n",
              "      <td>-0.069465</td>\n",
              "      <td>2.6</td>\n",
              "      <td>4.028478</td>\n",
              "      <td>0.0</td>\n",
              "      <td>...</td>\n",
              "      <td>1</td>\n",
              "      <td>4.0</td>\n",
              "      <td>0.0</td>\n",
              "      <td>1</td>\n",
              "      <td>1</td>\n",
              "      <td>311</td>\n",
              "      <td>2.0</td>\n",
              "      <td>3.5</td>\n",
              "      <td>0</td>\n",
              "      <td>130000.0</td>\n",
              "    </tr>\n",
              "    <tr>\n",
              "      <th>3</th>\n",
              "      <td>1.0</td>\n",
              "      <td>4.3</td>\n",
              "      <td>900.0</td>\n",
              "      <td>5.0</td>\n",
              "      <td>3.4</td>\n",
              "      <td>0</td>\n",
              "      <td>-0.919447</td>\n",
              "      <td>4.2</td>\n",
              "      <td>4.557885</td>\n",
              "      <td>0.0</td>\n",
              "      <td>...</td>\n",
              "      <td>0</td>\n",
              "      <td>3.0</td>\n",
              "      <td>2.5</td>\n",
              "      <td>1</td>\n",
              "      <td>0</td>\n",
              "      <td>141</td>\n",
              "      <td>4.2</td>\n",
              "      <td>4.5</td>\n",
              "      <td>0</td>\n",
              "      <td>110000.0</td>\n",
              "    </tr>\n",
              "    <tr>\n",
              "      <th>4</th>\n",
              "      <td>2.0</td>\n",
              "      <td>3.9</td>\n",
              "      <td>1200.0</td>\n",
              "      <td>4.0</td>\n",
              "      <td>3.2</td>\n",
              "      <td>0</td>\n",
              "      <td>-0.046846</td>\n",
              "      <td>4.1</td>\n",
              "      <td>3.995096</td>\n",
              "      <td>0.0</td>\n",
              "      <td>...</td>\n",
              "      <td>0</td>\n",
              "      <td>3.0</td>\n",
              "      <td>0.0</td>\n",
              "      <td>1</td>\n",
              "      <td>1</td>\n",
              "      <td>222</td>\n",
              "      <td>3.7</td>\n",
              "      <td>3.5</td>\n",
              "      <td>0</td>\n",
              "      <td>75000.0</td>\n",
              "    </tr>\n",
              "  </tbody>\n",
              "</table>\n",
              "<p>5 rows × 26 columns</p>\n",
              "</div>\n",
              "    <div class=\"colab-df-buttons\">\n",
              "\n",
              "  <div class=\"colab-df-container\">\n",
              "    <button class=\"colab-df-convert\" onclick=\"convertToInteractive('df-9af7f573-0d11-42b7-b260-60953eb34b6c')\"\n",
              "            title=\"Convert this dataframe to an interactive table.\"\n",
              "            style=\"display:none;\">\n",
              "\n",
              "  <svg xmlns=\"http://www.w3.org/2000/svg\" height=\"24px\" viewBox=\"0 -960 960 960\">\n",
              "    <path d=\"M120-120v-720h720v720H120Zm60-500h600v-160H180v160Zm220 220h160v-160H400v160Zm0 220h160v-160H400v160ZM180-400h160v-160H180v160Zm440 0h160v-160H620v160ZM180-180h160v-160H180v160Zm440 0h160v-160H620v160Z\"/>\n",
              "  </svg>\n",
              "    </button>\n",
              "\n",
              "  <style>\n",
              "    .colab-df-container {\n",
              "      display:flex;\n",
              "      gap: 12px;\n",
              "    }\n",
              "\n",
              "    .colab-df-convert {\n",
              "      background-color: #E8F0FE;\n",
              "      border: none;\n",
              "      border-radius: 50%;\n",
              "      cursor: pointer;\n",
              "      display: none;\n",
              "      fill: #1967D2;\n",
              "      height: 32px;\n",
              "      padding: 0 0 0 0;\n",
              "      width: 32px;\n",
              "    }\n",
              "\n",
              "    .colab-df-convert:hover {\n",
              "      background-color: #E2EBFA;\n",
              "      box-shadow: 0px 1px 2px rgba(60, 64, 67, 0.3), 0px 1px 3px 1px rgba(60, 64, 67, 0.15);\n",
              "      fill: #174EA6;\n",
              "    }\n",
              "\n",
              "    .colab-df-buttons div {\n",
              "      margin-bottom: 4px;\n",
              "    }\n",
              "\n",
              "    [theme=dark] .colab-df-convert {\n",
              "      background-color: #3B4455;\n",
              "      fill: #D2E3FC;\n",
              "    }\n",
              "\n",
              "    [theme=dark] .colab-df-convert:hover {\n",
              "      background-color: #434B5C;\n",
              "      box-shadow: 0px 1px 3px 1px rgba(0, 0, 0, 0.15);\n",
              "      filter: drop-shadow(0px 1px 2px rgba(0, 0, 0, 0.3));\n",
              "      fill: #FFFFFF;\n",
              "    }\n",
              "  </style>\n",
              "\n",
              "    <script>\n",
              "      const buttonEl =\n",
              "        document.querySelector('#df-9af7f573-0d11-42b7-b260-60953eb34b6c button.colab-df-convert');\n",
              "      buttonEl.style.display =\n",
              "        google.colab.kernel.accessAllowed ? 'block' : 'none';\n",
              "\n",
              "      async function convertToInteractive(key) {\n",
              "        const element = document.querySelector('#df-9af7f573-0d11-42b7-b260-60953eb34b6c');\n",
              "        const dataTable =\n",
              "          await google.colab.kernel.invokeFunction('convertToInteractive',\n",
              "                                                    [key], {});\n",
              "        if (!dataTable) return;\n",
              "\n",
              "        const docLinkHtml = 'Like what you see? Visit the ' +\n",
              "          '<a target=\"_blank\" href=https://colab.research.google.com/notebooks/data_table.ipynb>data table notebook</a>'\n",
              "          + ' to learn more about interactive tables.';\n",
              "        element.innerHTML = '';\n",
              "        dataTable['output_type'] = 'display_data';\n",
              "        await google.colab.output.renderOutput(dataTable, element);\n",
              "        const docLink = document.createElement('div');\n",
              "        docLink.innerHTML = docLinkHtml;\n",
              "        element.appendChild(docLink);\n",
              "      }\n",
              "    </script>\n",
              "  </div>\n",
              "\n",
              "\n",
              "<div id=\"df-7486d139-4924-4569-94d7-7285406d527a\">\n",
              "  <button class=\"colab-df-quickchart\" onclick=\"quickchart('df-7486d139-4924-4569-94d7-7285406d527a')\"\n",
              "            title=\"Suggest charts\"\n",
              "            style=\"display:none;\">\n",
              "\n",
              "<svg xmlns=\"http://www.w3.org/2000/svg\" height=\"24px\"viewBox=\"0 0 24 24\"\n",
              "     width=\"24px\">\n",
              "    <g>\n",
              "        <path d=\"M19 3H5c-1.1 0-2 .9-2 2v14c0 1.1.9 2 2 2h14c1.1 0 2-.9 2-2V5c0-1.1-.9-2-2-2zM9 17H7v-7h2v7zm4 0h-2V7h2v10zm4 0h-2v-4h2v4z\"/>\n",
              "    </g>\n",
              "</svg>\n",
              "  </button>\n",
              "\n",
              "<style>\n",
              "  .colab-df-quickchart {\n",
              "      --bg-color: #E8F0FE;\n",
              "      --fill-color: #1967D2;\n",
              "      --hover-bg-color: #E2EBFA;\n",
              "      --hover-fill-color: #174EA6;\n",
              "      --disabled-fill-color: #AAA;\n",
              "      --disabled-bg-color: #DDD;\n",
              "  }\n",
              "\n",
              "  [theme=dark] .colab-df-quickchart {\n",
              "      --bg-color: #3B4455;\n",
              "      --fill-color: #D2E3FC;\n",
              "      --hover-bg-color: #434B5C;\n",
              "      --hover-fill-color: #FFFFFF;\n",
              "      --disabled-bg-color: #3B4455;\n",
              "      --disabled-fill-color: #666;\n",
              "  }\n",
              "\n",
              "  .colab-df-quickchart {\n",
              "    background-color: var(--bg-color);\n",
              "    border: none;\n",
              "    border-radius: 50%;\n",
              "    cursor: pointer;\n",
              "    display: none;\n",
              "    fill: var(--fill-color);\n",
              "    height: 32px;\n",
              "    padding: 0;\n",
              "    width: 32px;\n",
              "  }\n",
              "\n",
              "  .colab-df-quickchart:hover {\n",
              "    background-color: var(--hover-bg-color);\n",
              "    box-shadow: 0 1px 2px rgba(60, 64, 67, 0.3), 0 1px 3px 1px rgba(60, 64, 67, 0.15);\n",
              "    fill: var(--button-hover-fill-color);\n",
              "  }\n",
              "\n",
              "  .colab-df-quickchart-complete:disabled,\n",
              "  .colab-df-quickchart-complete:disabled:hover {\n",
              "    background-color: var(--disabled-bg-color);\n",
              "    fill: var(--disabled-fill-color);\n",
              "    box-shadow: none;\n",
              "  }\n",
              "\n",
              "  .colab-df-spinner {\n",
              "    border: 2px solid var(--fill-color);\n",
              "    border-color: transparent;\n",
              "    border-bottom-color: var(--fill-color);\n",
              "    animation:\n",
              "      spin 1s steps(1) infinite;\n",
              "  }\n",
              "\n",
              "  @keyframes spin {\n",
              "    0% {\n",
              "      border-color: transparent;\n",
              "      border-bottom-color: var(--fill-color);\n",
              "      border-left-color: var(--fill-color);\n",
              "    }\n",
              "    20% {\n",
              "      border-color: transparent;\n",
              "      border-left-color: var(--fill-color);\n",
              "      border-top-color: var(--fill-color);\n",
              "    }\n",
              "    30% {\n",
              "      border-color: transparent;\n",
              "      border-left-color: var(--fill-color);\n",
              "      border-top-color: var(--fill-color);\n",
              "      border-right-color: var(--fill-color);\n",
              "    }\n",
              "    40% {\n",
              "      border-color: transparent;\n",
              "      border-right-color: var(--fill-color);\n",
              "      border-top-color: var(--fill-color);\n",
              "    }\n",
              "    60% {\n",
              "      border-color: transparent;\n",
              "      border-right-color: var(--fill-color);\n",
              "    }\n",
              "    80% {\n",
              "      border-color: transparent;\n",
              "      border-right-color: var(--fill-color);\n",
              "      border-bottom-color: var(--fill-color);\n",
              "    }\n",
              "    90% {\n",
              "      border-color: transparent;\n",
              "      border-bottom-color: var(--fill-color);\n",
              "    }\n",
              "  }\n",
              "</style>\n",
              "\n",
              "  <script>\n",
              "    async function quickchart(key) {\n",
              "      const quickchartButtonEl =\n",
              "        document.querySelector('#' + key + ' button');\n",
              "      quickchartButtonEl.disabled = true;  // To prevent multiple clicks.\n",
              "      quickchartButtonEl.classList.add('colab-df-spinner');\n",
              "      try {\n",
              "        const charts = await google.colab.kernel.invokeFunction(\n",
              "            'suggestCharts', [key], {});\n",
              "      } catch (error) {\n",
              "        console.error('Error during call to suggestCharts:', error);\n",
              "      }\n",
              "      quickchartButtonEl.classList.remove('colab-df-spinner');\n",
              "      quickchartButtonEl.classList.add('colab-df-quickchart-complete');\n",
              "    }\n",
              "    (() => {\n",
              "      let quickchartButtonEl =\n",
              "        document.querySelector('#df-7486d139-4924-4569-94d7-7285406d527a button');\n",
              "      quickchartButtonEl.style.display =\n",
              "        google.colab.kernel.accessAllowed ? 'block' : 'none';\n",
              "    })();\n",
              "  </script>\n",
              "</div>\n",
              "\n",
              "    </div>\n",
              "  </div>\n"
            ],
            "application/vnd.google.colaboratory.intrinsic+json": {
              "type": "dataframe",
              "variable_name": "housing_v3"
            }
          },
          "metadata": {},
          "execution_count": 53
        }
      ]
    },
    {
      "cell_type": "markdown",
      "source": [
        "### Save the Dataset"
      ],
      "metadata": {
        "id": "YyY0tfIJFfxi"
      }
    },
    {
      "cell_type": "code",
      "source": [
        "Test_v2 = pd.read_csv('/content/drive/MyDrive/Test_v2.csv')\n",
        "test_cols=cols_to_keep.tolist()\n",
        "test_cols.append('Listing.ListingId')\n",
        "Test_v3=Test_v2[test_cols]\n",
        "Test_v3.head()"
      ],
      "metadata": {
        "colab": {
          "base_uri": "https://localhost:8080/",
          "height": 249
        },
        "id": "8aml1MKk2ul2",
        "outputId": "17e8e9a8-4a20-4386-de9c-caab04db0ed6"
      },
      "execution_count": 54,
      "outputs": [
        {
          "output_type": "execute_result",
          "data": {
            "text/plain": [
              "   Structure.BathroomsFull  ImageData.q1q6.summary.kitchen  \\\n",
              "0                      1.0                             2.4   \n",
              "1                      1.0                             3.2   \n",
              "2                      1.0                             3.0   \n",
              "3                      1.0                             3.2   \n",
              "4                      6.0                             3.6   \n",
              "\n",
              "   Structure.LivingArea  Structure.Rooms.RoomsTotal  \\\n",
              "0                1568.0                         0.0   \n",
              "1                1568.0                         0.0   \n",
              "2                1568.0                         0.0   \n",
              "3                1568.0                         0.0   \n",
              "4                8960.0                        17.0   \n",
              "\n",
              "   ImageData.q1q6.summary.interior  Structure.Cooling.zoned  \\\n",
              "0                              2.7                        0   \n",
              "1                              3.0                        0   \n",
              "2                              3.0                        0   \n",
              "3                              3.0                        0   \n",
              "4                              3.7                        1   \n",
              "\n",
              "   Location.GIS.Latitude  ImageData.q1q6.summary.bathroom  \\\n",
              "0              -1.103897                              2.8   \n",
              "1              -0.443883                              3.3   \n",
              "2              -0.571196                              3.4   \n",
              "3              -0.785161                              3.3   \n",
              "4              -0.318501                              3.9   \n",
              "\n",
              "   Location.GIS.Longitude  Structure.BathroomsHalf  ...  \\\n",
              "0                3.107959                      0.0  ...   \n",
              "1                3.741734                      0.0  ...   \n",
              "2                4.625567                      0.0  ...   \n",
              "3                4.416910                      0.0  ...   \n",
              "4                4.354517                      2.0  ...   \n",
              "\n",
              "   ImageData.features_reso.results.Appliances.BuiltInRefrigerator  \\\n",
              "0                                                  0                \n",
              "1                                                  0                \n",
              "2                                                  0                \n",
              "3                                                  0                \n",
              "4                                                  0                \n",
              "\n",
              "   Structure.BedroomsTotal  Structure.GarageSpaces  Structure.Basement.none  \\\n",
              "0                      0.0                     0.0                        0   \n",
              "1                      0.0                     0.0                        0   \n",
              "2                      0.0                     0.0                        0   \n",
              "3                      0.0                     0.0                        0   \n",
              "4                      6.0                     5.0                        0   \n",
              "\n",
              "   ImageData.features_reso.results.Appliances.Dishwasher  days_since_start  \\\n",
              "0                                                  1                   402   \n",
              "1                                                  0                   391   \n",
              "2                                                  1                   375   \n",
              "3                                                  0                   366   \n",
              "4                                                  0                   396   \n",
              "\n",
              "   ImageData.c1c6.summary.bathroom  ImageData.q1q6.summary.exterior  \\\n",
              "0                              2.0                              3.1   \n",
              "1                              3.2                              3.5   \n",
              "2                              3.3                              3.8   \n",
              "3                              3.2                              3.5   \n",
              "4                              3.9                              3.7   \n",
              "\n",
              "   Characteristics.LotFeatures.beach  Listing.ListingId  \n",
              "0                                  0        mrd10801802  \n",
              "1                                  0        mrd10966126  \n",
              "2                                  0        mrd11165969  \n",
              "3                                  0        mrd11185881  \n",
              "4                                  0        mrd11198825  \n",
              "\n",
              "[5 rows x 26 columns]"
            ],
            "text/html": [
              "\n",
              "  <div id=\"df-225e1da3-da71-4403-8cb8-f63eab1b316f\" class=\"colab-df-container\">\n",
              "    <div>\n",
              "<style scoped>\n",
              "    .dataframe tbody tr th:only-of-type {\n",
              "        vertical-align: middle;\n",
              "    }\n",
              "\n",
              "    .dataframe tbody tr th {\n",
              "        vertical-align: top;\n",
              "    }\n",
              "\n",
              "    .dataframe thead th {\n",
              "        text-align: right;\n",
              "    }\n",
              "</style>\n",
              "<table border=\"1\" class=\"dataframe\">\n",
              "  <thead>\n",
              "    <tr style=\"text-align: right;\">\n",
              "      <th></th>\n",
              "      <th>Structure.BathroomsFull</th>\n",
              "      <th>ImageData.q1q6.summary.kitchen</th>\n",
              "      <th>Structure.LivingArea</th>\n",
              "      <th>Structure.Rooms.RoomsTotal</th>\n",
              "      <th>ImageData.q1q6.summary.interior</th>\n",
              "      <th>Structure.Cooling.zoned</th>\n",
              "      <th>Location.GIS.Latitude</th>\n",
              "      <th>ImageData.q1q6.summary.bathroom</th>\n",
              "      <th>Location.GIS.Longitude</th>\n",
              "      <th>Structure.BathroomsHalf</th>\n",
              "      <th>...</th>\n",
              "      <th>ImageData.features_reso.results.Appliances.BuiltInRefrigerator</th>\n",
              "      <th>Structure.BedroomsTotal</th>\n",
              "      <th>Structure.GarageSpaces</th>\n",
              "      <th>Structure.Basement.none</th>\n",
              "      <th>ImageData.features_reso.results.Appliances.Dishwasher</th>\n",
              "      <th>days_since_start</th>\n",
              "      <th>ImageData.c1c6.summary.bathroom</th>\n",
              "      <th>ImageData.q1q6.summary.exterior</th>\n",
              "      <th>Characteristics.LotFeatures.beach</th>\n",
              "      <th>Listing.ListingId</th>\n",
              "    </tr>\n",
              "  </thead>\n",
              "  <tbody>\n",
              "    <tr>\n",
              "      <th>0</th>\n",
              "      <td>1.0</td>\n",
              "      <td>2.4</td>\n",
              "      <td>1568.0</td>\n",
              "      <td>0.0</td>\n",
              "      <td>2.7</td>\n",
              "      <td>0</td>\n",
              "      <td>-1.103897</td>\n",
              "      <td>2.8</td>\n",
              "      <td>3.107959</td>\n",
              "      <td>0.0</td>\n",
              "      <td>...</td>\n",
              "      <td>0</td>\n",
              "      <td>0.0</td>\n",
              "      <td>0.0</td>\n",
              "      <td>0</td>\n",
              "      <td>1</td>\n",
              "      <td>402</td>\n",
              "      <td>2.0</td>\n",
              "      <td>3.1</td>\n",
              "      <td>0</td>\n",
              "      <td>mrd10801802</td>\n",
              "    </tr>\n",
              "    <tr>\n",
              "      <th>1</th>\n",
              "      <td>1.0</td>\n",
              "      <td>3.2</td>\n",
              "      <td>1568.0</td>\n",
              "      <td>0.0</td>\n",
              "      <td>3.0</td>\n",
              "      <td>0</td>\n",
              "      <td>-0.443883</td>\n",
              "      <td>3.3</td>\n",
              "      <td>3.741734</td>\n",
              "      <td>0.0</td>\n",
              "      <td>...</td>\n",
              "      <td>0</td>\n",
              "      <td>0.0</td>\n",
              "      <td>0.0</td>\n",
              "      <td>0</td>\n",
              "      <td>0</td>\n",
              "      <td>391</td>\n",
              "      <td>3.2</td>\n",
              "      <td>3.5</td>\n",
              "      <td>0</td>\n",
              "      <td>mrd10966126</td>\n",
              "    </tr>\n",
              "    <tr>\n",
              "      <th>2</th>\n",
              "      <td>1.0</td>\n",
              "      <td>3.0</td>\n",
              "      <td>1568.0</td>\n",
              "      <td>0.0</td>\n",
              "      <td>3.0</td>\n",
              "      <td>0</td>\n",
              "      <td>-0.571196</td>\n",
              "      <td>3.4</td>\n",
              "      <td>4.625567</td>\n",
              "      <td>0.0</td>\n",
              "      <td>...</td>\n",
              "      <td>0</td>\n",
              "      <td>0.0</td>\n",
              "      <td>0.0</td>\n",
              "      <td>0</td>\n",
              "      <td>1</td>\n",
              "      <td>375</td>\n",
              "      <td>3.3</td>\n",
              "      <td>3.8</td>\n",
              "      <td>0</td>\n",
              "      <td>mrd11165969</td>\n",
              "    </tr>\n",
              "    <tr>\n",
              "      <th>3</th>\n",
              "      <td>1.0</td>\n",
              "      <td>3.2</td>\n",
              "      <td>1568.0</td>\n",
              "      <td>0.0</td>\n",
              "      <td>3.0</td>\n",
              "      <td>0</td>\n",
              "      <td>-0.785161</td>\n",
              "      <td>3.3</td>\n",
              "      <td>4.416910</td>\n",
              "      <td>0.0</td>\n",
              "      <td>...</td>\n",
              "      <td>0</td>\n",
              "      <td>0.0</td>\n",
              "      <td>0.0</td>\n",
              "      <td>0</td>\n",
              "      <td>0</td>\n",
              "      <td>366</td>\n",
              "      <td>3.2</td>\n",
              "      <td>3.5</td>\n",
              "      <td>0</td>\n",
              "      <td>mrd11185881</td>\n",
              "    </tr>\n",
              "    <tr>\n",
              "      <th>4</th>\n",
              "      <td>6.0</td>\n",
              "      <td>3.6</td>\n",
              "      <td>8960.0</td>\n",
              "      <td>17.0</td>\n",
              "      <td>3.7</td>\n",
              "      <td>1</td>\n",
              "      <td>-0.318501</td>\n",
              "      <td>3.9</td>\n",
              "      <td>4.354517</td>\n",
              "      <td>2.0</td>\n",
              "      <td>...</td>\n",
              "      <td>0</td>\n",
              "      <td>6.0</td>\n",
              "      <td>5.0</td>\n",
              "      <td>0</td>\n",
              "      <td>0</td>\n",
              "      <td>396</td>\n",
              "      <td>3.9</td>\n",
              "      <td>3.7</td>\n",
              "      <td>0</td>\n",
              "      <td>mrd11198825</td>\n",
              "    </tr>\n",
              "  </tbody>\n",
              "</table>\n",
              "<p>5 rows × 26 columns</p>\n",
              "</div>\n",
              "    <div class=\"colab-df-buttons\">\n",
              "\n",
              "  <div class=\"colab-df-container\">\n",
              "    <button class=\"colab-df-convert\" onclick=\"convertToInteractive('df-225e1da3-da71-4403-8cb8-f63eab1b316f')\"\n",
              "            title=\"Convert this dataframe to an interactive table.\"\n",
              "            style=\"display:none;\">\n",
              "\n",
              "  <svg xmlns=\"http://www.w3.org/2000/svg\" height=\"24px\" viewBox=\"0 -960 960 960\">\n",
              "    <path d=\"M120-120v-720h720v720H120Zm60-500h600v-160H180v160Zm220 220h160v-160H400v160Zm0 220h160v-160H400v160ZM180-400h160v-160H180v160Zm440 0h160v-160H620v160ZM180-180h160v-160H180v160Zm440 0h160v-160H620v160Z\"/>\n",
              "  </svg>\n",
              "    </button>\n",
              "\n",
              "  <style>\n",
              "    .colab-df-container {\n",
              "      display:flex;\n",
              "      gap: 12px;\n",
              "    }\n",
              "\n",
              "    .colab-df-convert {\n",
              "      background-color: #E8F0FE;\n",
              "      border: none;\n",
              "      border-radius: 50%;\n",
              "      cursor: pointer;\n",
              "      display: none;\n",
              "      fill: #1967D2;\n",
              "      height: 32px;\n",
              "      padding: 0 0 0 0;\n",
              "      width: 32px;\n",
              "    }\n",
              "\n",
              "    .colab-df-convert:hover {\n",
              "      background-color: #E2EBFA;\n",
              "      box-shadow: 0px 1px 2px rgba(60, 64, 67, 0.3), 0px 1px 3px 1px rgba(60, 64, 67, 0.15);\n",
              "      fill: #174EA6;\n",
              "    }\n",
              "\n",
              "    .colab-df-buttons div {\n",
              "      margin-bottom: 4px;\n",
              "    }\n",
              "\n",
              "    [theme=dark] .colab-df-convert {\n",
              "      background-color: #3B4455;\n",
              "      fill: #D2E3FC;\n",
              "    }\n",
              "\n",
              "    [theme=dark] .colab-df-convert:hover {\n",
              "      background-color: #434B5C;\n",
              "      box-shadow: 0px 1px 3px 1px rgba(0, 0, 0, 0.15);\n",
              "      filter: drop-shadow(0px 1px 2px rgba(0, 0, 0, 0.3));\n",
              "      fill: #FFFFFF;\n",
              "    }\n",
              "  </style>\n",
              "\n",
              "    <script>\n",
              "      const buttonEl =\n",
              "        document.querySelector('#df-225e1da3-da71-4403-8cb8-f63eab1b316f button.colab-df-convert');\n",
              "      buttonEl.style.display =\n",
              "        google.colab.kernel.accessAllowed ? 'block' : 'none';\n",
              "\n",
              "      async function convertToInteractive(key) {\n",
              "        const element = document.querySelector('#df-225e1da3-da71-4403-8cb8-f63eab1b316f');\n",
              "        const dataTable =\n",
              "          await google.colab.kernel.invokeFunction('convertToInteractive',\n",
              "                                                    [key], {});\n",
              "        if (!dataTable) return;\n",
              "\n",
              "        const docLinkHtml = 'Like what you see? Visit the ' +\n",
              "          '<a target=\"_blank\" href=https://colab.research.google.com/notebooks/data_table.ipynb>data table notebook</a>'\n",
              "          + ' to learn more about interactive tables.';\n",
              "        element.innerHTML = '';\n",
              "        dataTable['output_type'] = 'display_data';\n",
              "        await google.colab.output.renderOutput(dataTable, element);\n",
              "        const docLink = document.createElement('div');\n",
              "        docLink.innerHTML = docLinkHtml;\n",
              "        element.appendChild(docLink);\n",
              "      }\n",
              "    </script>\n",
              "  </div>\n",
              "\n",
              "\n",
              "<div id=\"df-1a752b18-29d2-4b48-8e13-e1a259ea20f9\">\n",
              "  <button class=\"colab-df-quickchart\" onclick=\"quickchart('df-1a752b18-29d2-4b48-8e13-e1a259ea20f9')\"\n",
              "            title=\"Suggest charts\"\n",
              "            style=\"display:none;\">\n",
              "\n",
              "<svg xmlns=\"http://www.w3.org/2000/svg\" height=\"24px\"viewBox=\"0 0 24 24\"\n",
              "     width=\"24px\">\n",
              "    <g>\n",
              "        <path d=\"M19 3H5c-1.1 0-2 .9-2 2v14c0 1.1.9 2 2 2h14c1.1 0 2-.9 2-2V5c0-1.1-.9-2-2-2zM9 17H7v-7h2v7zm4 0h-2V7h2v10zm4 0h-2v-4h2v4z\"/>\n",
              "    </g>\n",
              "</svg>\n",
              "  </button>\n",
              "\n",
              "<style>\n",
              "  .colab-df-quickchart {\n",
              "      --bg-color: #E8F0FE;\n",
              "      --fill-color: #1967D2;\n",
              "      --hover-bg-color: #E2EBFA;\n",
              "      --hover-fill-color: #174EA6;\n",
              "      --disabled-fill-color: #AAA;\n",
              "      --disabled-bg-color: #DDD;\n",
              "  }\n",
              "\n",
              "  [theme=dark] .colab-df-quickchart {\n",
              "      --bg-color: #3B4455;\n",
              "      --fill-color: #D2E3FC;\n",
              "      --hover-bg-color: #434B5C;\n",
              "      --hover-fill-color: #FFFFFF;\n",
              "      --disabled-bg-color: #3B4455;\n",
              "      --disabled-fill-color: #666;\n",
              "  }\n",
              "\n",
              "  .colab-df-quickchart {\n",
              "    background-color: var(--bg-color);\n",
              "    border: none;\n",
              "    border-radius: 50%;\n",
              "    cursor: pointer;\n",
              "    display: none;\n",
              "    fill: var(--fill-color);\n",
              "    height: 32px;\n",
              "    padding: 0;\n",
              "    width: 32px;\n",
              "  }\n",
              "\n",
              "  .colab-df-quickchart:hover {\n",
              "    background-color: var(--hover-bg-color);\n",
              "    box-shadow: 0 1px 2px rgba(60, 64, 67, 0.3), 0 1px 3px 1px rgba(60, 64, 67, 0.15);\n",
              "    fill: var(--button-hover-fill-color);\n",
              "  }\n",
              "\n",
              "  .colab-df-quickchart-complete:disabled,\n",
              "  .colab-df-quickchart-complete:disabled:hover {\n",
              "    background-color: var(--disabled-bg-color);\n",
              "    fill: var(--disabled-fill-color);\n",
              "    box-shadow: none;\n",
              "  }\n",
              "\n",
              "  .colab-df-spinner {\n",
              "    border: 2px solid var(--fill-color);\n",
              "    border-color: transparent;\n",
              "    border-bottom-color: var(--fill-color);\n",
              "    animation:\n",
              "      spin 1s steps(1) infinite;\n",
              "  }\n",
              "\n",
              "  @keyframes spin {\n",
              "    0% {\n",
              "      border-color: transparent;\n",
              "      border-bottom-color: var(--fill-color);\n",
              "      border-left-color: var(--fill-color);\n",
              "    }\n",
              "    20% {\n",
              "      border-color: transparent;\n",
              "      border-left-color: var(--fill-color);\n",
              "      border-top-color: var(--fill-color);\n",
              "    }\n",
              "    30% {\n",
              "      border-color: transparent;\n",
              "      border-left-color: var(--fill-color);\n",
              "      border-top-color: var(--fill-color);\n",
              "      border-right-color: var(--fill-color);\n",
              "    }\n",
              "    40% {\n",
              "      border-color: transparent;\n",
              "      border-right-color: var(--fill-color);\n",
              "      border-top-color: var(--fill-color);\n",
              "    }\n",
              "    60% {\n",
              "      border-color: transparent;\n",
              "      border-right-color: var(--fill-color);\n",
              "    }\n",
              "    80% {\n",
              "      border-color: transparent;\n",
              "      border-right-color: var(--fill-color);\n",
              "      border-bottom-color: var(--fill-color);\n",
              "    }\n",
              "    90% {\n",
              "      border-color: transparent;\n",
              "      border-bottom-color: var(--fill-color);\n",
              "    }\n",
              "  }\n",
              "</style>\n",
              "\n",
              "  <script>\n",
              "    async function quickchart(key) {\n",
              "      const quickchartButtonEl =\n",
              "        document.querySelector('#' + key + ' button');\n",
              "      quickchartButtonEl.disabled = true;  // To prevent multiple clicks.\n",
              "      quickchartButtonEl.classList.add('colab-df-spinner');\n",
              "      try {\n",
              "        const charts = await google.colab.kernel.invokeFunction(\n",
              "            'suggestCharts', [key], {});\n",
              "      } catch (error) {\n",
              "        console.error('Error during call to suggestCharts:', error);\n",
              "      }\n",
              "      quickchartButtonEl.classList.remove('colab-df-spinner');\n",
              "      quickchartButtonEl.classList.add('colab-df-quickchart-complete');\n",
              "    }\n",
              "    (() => {\n",
              "      let quickchartButtonEl =\n",
              "        document.querySelector('#df-1a752b18-29d2-4b48-8e13-e1a259ea20f9 button');\n",
              "      quickchartButtonEl.style.display =\n",
              "        google.colab.kernel.accessAllowed ? 'block' : 'none';\n",
              "    })();\n",
              "  </script>\n",
              "</div>\n",
              "\n",
              "    </div>\n",
              "  </div>\n"
            ],
            "application/vnd.google.colaboratory.intrinsic+json": {
              "type": "dataframe",
              "variable_name": "Test_v3"
            }
          },
          "metadata": {},
          "execution_count": 54
        }
      ]
    },
    {
      "cell_type": "code",
      "source": [
        "housing_v3.to_csv('/content/drive/MyDrive/final_train.csv',index=False)\n",
        "Test_v3.to_csv('/content/drive/MyDrive/final_test.csv',index=False)"
      ],
      "metadata": {
        "id": "RKQintg6EMtA"
      },
      "execution_count": 55,
      "outputs": []
    },
    {
      "cell_type": "markdown",
      "source": [
        "# Predict"
      ],
      "metadata": {
        "id": "KhJY23Qe6kPZ"
      }
    },
    {
      "cell_type": "code",
      "source": [
        "housing = pd.read_csv(\"/content/drive/MyDrive/final_train.csv\")\n",
        "print(housing.shape)"
      ],
      "metadata": {
        "id": "rWrZCLTK7BOp",
        "colab": {
          "base_uri": "https://localhost:8080/"
        },
        "outputId": "27fffb08-b937-4651-8d94-3390af54dc0c"
      },
      "execution_count": 56,
      "outputs": [
        {
          "output_type": "stream",
          "name": "stdout",
          "text": [
            "(92978, 26)\n"
          ]
        }
      ]
    },
    {
      "cell_type": "code",
      "source": [
        "#Predict with a linear model for comparison\n",
        "\n",
        "# Define your features and target\n",
        "X = housing.drop(columns=['Listing.Price.ClosePrice'])  # Assuming 'price' is the target column\n",
        "y = housing['Listing.Price.ClosePrice']\n",
        "\n",
        "# Split data into training and validation sets (80% train, 20% test)\n",
        "X_train, X_val, y_train, y_val = train_test_split(X, y, test_size=0.3, random_state=42)\n",
        "\n",
        "# Initialize and fit the Linear Regression model\n",
        "model = LinearRegression()\n",
        "model.fit(X_train, y_train)\n",
        "\n",
        "# Make predictions on the validation set\n",
        "y_pred = model.predict(X_val)\n",
        "\n",
        "# Calculate evaluation metrics\n",
        "mse = mean_squared_error(y_val, y_pred)\n",
        "rmse = mse**0.5\n",
        "mae = mean_absolute_error(y_val, y_pred)\n",
        "mape = mean_absolute_percentage_error(y_val, y_pred)  # Convert to percentage\n",
        "\n",
        "# Print evaluation metrics\n",
        "print(f\"Mean Squared Error (MSE): {mse:.2f}\")\n",
        "print(f\"Root Mean Squared Error (RMSE): {rmse:.2f}\")\n",
        "print(f\"Mean Absolute Error (MAE): {mae:.2f}\")\n",
        "print(f\"Mean Absolute Percentage Error (MAPE): {mape:.2f}%\")"
      ],
      "metadata": {
        "colab": {
          "base_uri": "https://localhost:8080/"
        },
        "id": "DWQ5ua9GAWqb",
        "outputId": "7fe2322b-6381-48b6-c1f4-f859e924d095"
      },
      "execution_count": 57,
      "outputs": [
        {
          "output_type": "stream",
          "name": "stdout",
          "text": [
            "Mean Squared Error (MSE): 58319783925.54\n",
            "Root Mean Squared Error (RMSE): 241494.89\n",
            "Mean Absolute Error (MAE): 123482.67\n",
            "Mean Absolute Percentage Error (MAPE): 0.43%\n"
          ]
        }
      ]
    },
    {
      "cell_type": "code",
      "source": [
        "# Generate a random seed\n",
        "random_seed = 42\n",
        "\n",
        "# Define the parameter grid\n",
        "param_grid = {\n",
        "    'n_estimators': [100, 200],\n",
        "    'max_depth': [20, 30],\n",
        "}\n",
        "\n",
        "# Initialize the model\n",
        "rf = RandomForestRegressor(random_state=random_seed)\n",
        "\n",
        "# Initialize GridSearchCV\n",
        "grid_search = GridSearchCV(estimator=rf, param_grid=param_grid, cv=5, scoring='r2', verbose=2, n_jobs=-1)\n",
        "\n",
        "# Fit the model to the data\n",
        "print(\"Starting Grid Search...\")\n",
        "grid_search.fit(X_train, y_train)\n",
        "print(\"Grid Search Complete.\")\n",
        "\n",
        "# Display the best parameters\n",
        "print(\"Best Parameters:\", grid_search.best_params_)\n",
        "\n",
        "# Use the best model to make predictions\n",
        "best_model = grid_search.best_estimator_\n",
        "y_pred = best_model.predict(X_val)\n",
        "\n",
        "\n",
        "# Calculate evaluation metrics\n",
        "mse = mean_squared_error(y_val, y_pred)\n",
        "rmse = mse**0.5\n",
        "mae = mean_absolute_error(y_val, y_pred)\n",
        "mape = mean_absolute_percentage_error(y_val, y_pred)  # Convert to percentage\n",
        "\n",
        "# Print evaluation metrics\n",
        "print(f\"Mean Squared Error (MSE): {mse:.2f}\")\n",
        "print(f\"Root Mean Squared Error (RMSE): {rmse:.2f}\")\n",
        "print(f\"Mean Absolute Error (MAE): {mae:.2f}\")\n",
        "print(f\"Mean Absolute Percentage Error (MAPE): {mape:.2f}%\")"
      ],
      "metadata": {
        "colab": {
          "base_uri": "https://localhost:8080/"
        },
        "id": "CCzfLs7DAE2f",
        "outputId": "66312c45-743b-498f-99b6-367e310104fc"
      },
      "execution_count": 58,
      "outputs": [
        {
          "output_type": "stream",
          "name": "stdout",
          "text": [
            "Starting Grid Search...\n",
            "Fitting 5 folds for each of 4 candidates, totalling 20 fits\n",
            "Grid Search Complete.\n",
            "Best Parameters: {'max_depth': 30, 'n_estimators': 200}\n",
            "Mean Squared Error (MSE): 27430835710.49\n",
            "Root Mean Squared Error (RMSE): 165622.57\n",
            "Mean Absolute Error (MAE): 62638.52\n",
            "Mean Absolute Percentage Error (MAPE): 0.19%\n"
          ]
        }
      ]
    },
    {
      "cell_type": "code",
      "source": [
        "test_data = pd.read_csv(\"/content/drive/MyDrive/final_test.csv\")\n",
        "print(test_data.shape)"
      ],
      "metadata": {
        "colab": {
          "base_uri": "https://localhost:8080/"
        },
        "id": "6oGOjf8kCSaF",
        "outputId": "06280f26-25bb-4d99-9b64-c2eecff800c3"
      },
      "execution_count": 59,
      "outputs": [
        {
          "output_type": "stream",
          "name": "stdout",
          "text": [
            "(22039, 26)\n"
          ]
        }
      ]
    },
    {
      "cell_type": "code",
      "source": [
        "#Retrain on the entire training set and predict on the test set\n",
        "\n",
        "train_data=housing\n",
        "\n",
        "features = train_data.drop(columns='Listing.Price.ClosePrice').columns.tolist()\n",
        "target = 'Listing.Price.ClosePrice'\n",
        "\n",
        "# Initialize the model\n",
        "rf = RandomForestRegressor(random_state=random_seed)\n",
        "\n",
        "# Initialize GridSearchCV\n",
        "grid_search = GridSearchCV(estimator=rf, param_grid=param_grid, cv=5, scoring='r2', verbose=2, n_jobs=-1)\n",
        "\n",
        "# Fit the model to the data\n",
        "print(\"Starting Grid Search...\")\n",
        "grid_search.fit(train_data[features], train_data[target])\n",
        "print(\"Grid Search Complete.\")\n",
        "\n",
        "# Display the best parameters\n",
        "print(\"Best Parameters:\", grid_search.best_params_)\n",
        "\n",
        "# Use the best model to make predictions\n",
        "best_model = grid_search.best_estimator_\n",
        "predictions = best_model.predict(test_data[features])"
      ],
      "metadata": {
        "colab": {
          "base_uri": "https://localhost:8080/"
        },
        "id": "Zxu6McDt6sP4",
        "outputId": "c3279737-93b9-477a-fc04-2cb4e25af93e"
      },
      "execution_count": 60,
      "outputs": [
        {
          "output_type": "stream",
          "name": "stdout",
          "text": [
            "Starting Grid Search...\n",
            "Fitting 5 folds for each of 4 candidates, totalling 20 fits\n",
            "Grid Search Complete.\n",
            "Best Parameters: {'max_depth': 30, 'n_estimators': 200}\n"
          ]
        }
      ]
    },
    {
      "cell_type": "code",
      "source": [
        "#Save the final prediction\n",
        "output_df = pd.DataFrame({target: predictions}, index=test_data['Listing.ListingId'])\n",
        "output_df.index.name = 'Listing.ListingId'  # Set the index name\n",
        "output_df.to_csv('/content/drive/MyDrive/predictions.csv', index=True)  # Save with the index column"
      ],
      "metadata": {
        "id": "CklAjvoiEEYr"
      },
      "execution_count": 61,
      "outputs": []
    }
  ]
}